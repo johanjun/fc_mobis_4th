{
 "cells": [
  {
   "cell_type": "code",
   "execution_count": 1,
   "metadata": {
    "ExecuteTime": {
     "end_time": "2021-04-28T07:29:02.168345Z",
     "start_time": "2021-04-28T07:29:01.936621Z"
    }
   },
   "outputs": [],
   "source": [
    "import requests\n",
    "from bs4 import BeautifulSoup"
   ]
  },
  {
   "cell_type": "code",
   "execution_count": 15,
   "metadata": {
    "ExecuteTime": {
     "end_time": "2021-04-28T07:47:17.437551Z",
     "start_time": "2021-04-28T07:47:11.161362Z"
    }
   },
   "outputs": [
    {
     "name": "stdout",
     "output_type": "stream",
     "text": [
      "검색어 : 패스트캠퍼스\n",
      "패스트파이브, 8개 호점 추가 “3Q에 35호점 오픈”\n",
      "패스트캠퍼스, 수출바우처사업 수행기관 선정\n",
      "패스트캠퍼스, ‘서울형 청년인턴 직무캠프’ 직무교육 훈련기관 선정\n",
      "패스트파이브-위워크, 치열해진 공유오피스 업계 1위 다툼\n",
      "패스트캠퍼스, '서울형 청년인턴 직무캠프'서 디지털 마케팅 과정 운영\n",
      "'성인교육 새 강자' 패스트캠퍼스, 올해 1000억 매출 도전\n",
      "구글, 韓 청년실업 극복에 100만달러 지원…임팩트캠퍼스 출범\n",
      "패스트캠퍼스, 숙명여대 MBA 강의 콘텐츠 제작\n",
      "패스트캠퍼스, 중기부 '비대면 바우처 서비스 사업' 선정\n",
      "패스트캠퍼스, '네카라쿠배' IT취업교육 지원자 중 비전공자가 60% 넘어\n",
      "패스트캠퍼스, 지난해 매출 420억·누적 고객수 48만\n",
      "패스트캠퍼스, '광고인 박웅현과 크리에이티브' 강의 출시\n",
      "패스트파이브, 작년 매출 607억...전년 대비 43%↑\n",
      "패스트캠퍼스, 배우 남궁민과 ‘배우면 바뀐다’ 캠페인 진행\n",
      "패스트캠퍼스, 정규직 채용연계형 인턴십 ‘슈퍼루키’ 모집\n",
      "패스트캠퍼스, ‘가벼운학습지’ 모델에 배우 정려원 발탁\n",
      "패스트캠퍼스, 기업 `온라인 직무 교육` 무상 지원 나선다\n",
      "6살 된 패스트캠퍼스, 누적매출 800억원 돌파\n",
      "패스트캠퍼스, 정규직 채용연계형 인턴십 '슈퍼루키' 모집\n",
      "패스트파이브-패스트캠퍼스, 4주 만에 17개 기업 교육서비스 사용\n",
      "패스트캠퍼스, 100억 유치… “대학·대학원 대체할 것\"\n",
      "숙명여자대학교 MBA 강의 콘텐츠, 패스트캠퍼스에서도 수강한다\n",
      "패스트캠퍼스, 1분기 월평균 매출 30억\n",
      "패스트캠퍼스, WSJ와 프리미엄 월간학습지 출시\n",
      "패스트캠퍼스, 스타트업 대상 교육 콘텐츠 무료 제공\n",
      "패스트캠퍼스, 배우 남궁민과 함께 '배우면 바뀐다' 캠페인 진행\n",
      "패스트캠퍼스, 국민대학교와 교육 프로그램 공동 개발한다\n",
      "패스트캠퍼스, 서울관광재단 포스트 코로나 디지털 교육 운영사 선정\n",
      "패스트캠퍼스, 누적 고객 12만명·연매출 260억원 돌파\n",
      "패스트캠퍼스, 부천국제영화제에 'VR·AR 온라인 강의' 후원\n",
      "패스트캠퍼스, 누적 수강생 11만명 돌파…1+1 이벤트 진행\n",
      "패스트파이브, 성인교육 스타트업 패스트캠퍼스 최대 주주 등극\n",
      "패스트파이브, 상장신청 자진철회\n",
      "공유오피스 패스트파이브, 스타트업 패키지 출시\n",
      "패스트캠퍼스, ‘중소기업 경영혁신 마일리지 제도’ 교육 기관 선정\n",
      "패스트캠퍼스, 구독형 온라인 교육 서비스 출시\n",
      "[스타트업 리포트] 공유오피스 1위 패스트파이브의 비결\n",
      "패스트파이브, 공유오피스에서 오피스플래폼으로 역할 강화\n",
      "[디지털이노베이션] 패스트캠퍼스\n",
      "[만나봤더니] 패스트파이브 \"상장 철회, 신사업 추진의 기회로\"\n"
     ]
    }
   ],
   "source": [
    "keyword = input(\"검색어 : \")\n",
    "\n",
    "for page in range(1, 5):\n",
    "    start = 1 + (page-1)*10\n",
    "\n",
    "    url = f\"https://search.naver.com/search.naver?where=news&sm=tab_jum&query={keyword}&start={start}\"\n",
    "    data = requests.get(url)\n",
    "    html = BeautifulSoup(data.text, 'html.parser')\n",
    "\n",
    "    titles = html.select('.news_tit')\n",
    "\n",
    "    for title in titles:\n",
    "        print(title.text)"
   ]
  },
  {
   "cell_type": "code",
   "execution_count": null,
   "metadata": {},
   "outputs": [],
   "source": []
  },
  {
   "cell_type": "code",
   "execution_count": null,
   "metadata": {},
   "outputs": [],
   "source": []
  },
  {
   "cell_type": "code",
   "execution_count": null,
   "metadata": {},
   "outputs": [],
   "source": []
  }
 ],
 "metadata": {
  "kernelspec": {
   "display_name": "Python 3",
   "language": "python",
   "name": "python3"
  },
  "language_info": {
   "codemirror_mode": {
    "name": "ipython",
    "version": 3
   },
   "file_extension": ".py",
   "mimetype": "text/x-python",
   "name": "python",
   "nbconvert_exporter": "python",
   "pygments_lexer": "ipython3",
   "version": "3.8.5"
  },
  "toc": {
   "base_numbering": 1,
   "nav_menu": {},
   "number_sections": true,
   "sideBar": true,
   "skip_h1_title": false,
   "title_cell": "Table of Contents",
   "title_sidebar": "Contents",
   "toc_cell": false,
   "toc_position": {},
   "toc_section_display": true,
   "toc_window_display": false
  },
  "varInspector": {
   "cols": {
    "lenName": 16,
    "lenType": 16,
    "lenVar": 40
   },
   "kernels_config": {
    "python": {
     "delete_cmd_postfix": "",
     "delete_cmd_prefix": "del ",
     "library": "var_list.py",
     "varRefreshCmd": "print(var_dic_list())"
    },
    "r": {
     "delete_cmd_postfix": ") ",
     "delete_cmd_prefix": "rm(",
     "library": "var_list.r",
     "varRefreshCmd": "cat(var_dic_list()) "
    }
   },
   "types_to_exclude": [
    "module",
    "function",
    "builtin_function_or_method",
    "instance",
    "_Feature"
   ],
   "window_display": false
  }
 },
 "nbformat": 4,
 "nbformat_minor": 4
}
