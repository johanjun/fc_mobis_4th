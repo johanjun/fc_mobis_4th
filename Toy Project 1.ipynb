{
 "cells": [
  {
   "cell_type": "markdown",
   "metadata": {},
   "source": [
    "# Project Overview\n",
    "\n",
    "- 현대자동차 리뷰 데이터를 바탕으로 인사이트 도출 및 프로그램 제작"
   ]
  },
  {
   "cell_type": "markdown",
   "metadata": {},
   "source": [
    "# Data Load"
   ]
  },
  {
   "cell_type": "code",
   "execution_count": 57,
   "metadata": {
    "ExecuteTime": {
     "end_time": "2021-04-30T00:26:29.408161Z",
     "start_time": "2021-04-30T00:26:29.245473Z"
    }
   },
   "outputs": [],
   "source": [
    "import pandas as pd\n",
    "df_hyundai = pd.read_csv(\"./data/Scraped_Car_Review_hyundai.csv\", engine='python')"
   ]
  },
  {
   "cell_type": "code",
   "execution_count": 58,
   "metadata": {
    "ExecuteTime": {
     "end_time": "2021-04-30T00:26:29.472650Z",
     "start_time": "2021-04-30T00:26:29.459488Z"
    }
   },
   "outputs": [
    {
     "data": {
      "text/html": [
       "<div>\n",
       "<style scoped>\n",
       "    .dataframe tbody tr th:only-of-type {\n",
       "        vertical-align: middle;\n",
       "    }\n",
       "\n",
       "    .dataframe tbody tr th {\n",
       "        vertical-align: top;\n",
       "    }\n",
       "\n",
       "    .dataframe thead th {\n",
       "        text-align: right;\n",
       "    }\n",
       "</style>\n",
       "<table border=\"1\" class=\"dataframe\">\n",
       "  <thead>\n",
       "    <tr style=\"text-align: right;\">\n",
       "      <th></th>\n",
       "      <th>Unnamed: 0</th>\n",
       "      <th>Review_Date</th>\n",
       "      <th>Author_Name</th>\n",
       "      <th>Vehicle_Title</th>\n",
       "      <th>Review_Title</th>\n",
       "      <th>Review</th>\n",
       "      <th>Rating</th>\n",
       "    </tr>\n",
       "  </thead>\n",
       "  <tbody>\n",
       "    <tr>\n",
       "      <th>0</th>\n",
       "      <td>0</td>\n",
       "      <td>on 03/28/18 20:22 PM (PDT)</td>\n",
       "      <td>Kiowa1@gmail.com</td>\n",
       "      <td>2006 Hyundai Azera Sedan Limited 4dr Sedan (3....</td>\n",
       "      <td>Excellent Value</td>\n",
       "      <td>I bought the 2006 Azera Limited in June of 20...</td>\n",
       "      <td>4.0</td>\n",
       "    </tr>\n",
       "    <tr>\n",
       "      <th>1</th>\n",
       "      <td>1</td>\n",
       "      <td>on 05/02/17 18:03 PM (PDT)</td>\n",
       "      <td>SiGung</td>\n",
       "      <td>2006 Hyundai Azera Sedan Limited 4dr Sedan (3....</td>\n",
       "      <td>Don't even waste your time looking much less b...</td>\n",
       "      <td>Electrical nightmare.  Dealer cost for repair...</td>\n",
       "      <td>1.0</td>\n",
       "    </tr>\n",
       "    <tr>\n",
       "      <th>2</th>\n",
       "      <td>2</td>\n",
       "      <td>on 05/02/17 18:03 PM (PDT)</td>\n",
       "      <td>SiGung</td>\n",
       "      <td>2006 Hyundai Azera Sedan Limited 4dr Sedan (3....</td>\n",
       "      <td>Great car</td>\n",
       "      <td>Great car, great ride, would have better mile...</td>\n",
       "      <td>5.0</td>\n",
       "    </tr>\n",
       "    <tr>\n",
       "      <th>3</th>\n",
       "      <td>3</td>\n",
       "      <td>on 03/27/17 14:49 PM (PDT)</td>\n",
       "      <td>Kevin Gibson</td>\n",
       "      <td>2006 Hyundai Azera Sedan Limited 4dr Sedan (3....</td>\n",
       "      <td>Best car ever</td>\n",
       "      <td>I absolutly love my Azera. The performance is...</td>\n",
       "      <td>5.0</td>\n",
       "    </tr>\n",
       "    <tr>\n",
       "      <th>4</th>\n",
       "      <td>4</td>\n",
       "      <td>on 01/10/17 10:22 AM (PST)</td>\n",
       "      <td>Nick Casper</td>\n",
       "      <td>2006 Hyundai Azera Sedan Limited 4dr Sedan (3....</td>\n",
       "      <td>Good value for luxury</td>\n",
       "      <td>We have had our 2006 Azera from nearly new (3...</td>\n",
       "      <td>4.0</td>\n",
       "    </tr>\n",
       "  </tbody>\n",
       "</table>\n",
       "</div>"
      ],
      "text/plain": [
       "  Unnamed: 0                  Review_Date        Author_Name  \\\n",
       "0          0   on 03/28/18 20:22 PM (PDT)  Kiowa1@gmail.com    \n",
       "1          1   on 05/02/17 18:03 PM (PDT)            SiGung    \n",
       "2          2   on 05/02/17 18:03 PM (PDT)            SiGung    \n",
       "3          3   on 03/27/17 14:49 PM (PDT)      Kevin Gibson    \n",
       "4          4   on 01/10/17 10:22 AM (PST)       Nick Casper    \n",
       "\n",
       "                                       Vehicle_Title  \\\n",
       "0  2006 Hyundai Azera Sedan Limited 4dr Sedan (3....   \n",
       "1  2006 Hyundai Azera Sedan Limited 4dr Sedan (3....   \n",
       "2  2006 Hyundai Azera Sedan Limited 4dr Sedan (3....   \n",
       "3  2006 Hyundai Azera Sedan Limited 4dr Sedan (3....   \n",
       "4  2006 Hyundai Azera Sedan Limited 4dr Sedan (3....   \n",
       "\n",
       "                                        Review_Title  \\\n",
       "0                                    Excellent Value   \n",
       "1  Don't even waste your time looking much less b...   \n",
       "2                                          Great car   \n",
       "3                                      Best car ever   \n",
       "4                              Good value for luxury   \n",
       "\n",
       "                                              Review  Rating  \n",
       "0   I bought the 2006 Azera Limited in June of 20...     4.0  \n",
       "1   Electrical nightmare.  Dealer cost for repair...     1.0  \n",
       "2   Great car, great ride, would have better mile...     5.0  \n",
       "3   I absolutly love my Azera. The performance is...     5.0  \n",
       "4   We have had our 2006 Azera from nearly new (3...     4.0  "
      ]
     },
     "execution_count": 58,
     "metadata": {},
     "output_type": "execute_result"
    }
   ],
   "source": [
    "df_hyundai.head()"
   ]
  },
  {
   "cell_type": "markdown",
   "metadata": {},
   "source": [
    "# Preprocessing"
   ]
  },
  {
   "cell_type": "code",
   "execution_count": 59,
   "metadata": {
    "ExecuteTime": {
     "end_time": "2021-04-30T00:26:29.812041Z",
     "start_time": "2021-04-30T00:26:29.806327Z"
    }
   },
   "outputs": [],
   "source": [
    "del df_hyundai['Unnamed: 0']"
   ]
  },
  {
   "cell_type": "code",
   "execution_count": 60,
   "metadata": {
    "ExecuteTime": {
     "end_time": "2021-04-30T00:26:30.216641Z",
     "start_time": "2021-04-30T00:26:30.202162Z"
    }
   },
   "outputs": [
    {
     "data": {
      "text/html": [
       "<div>\n",
       "<style scoped>\n",
       "    .dataframe tbody tr th:only-of-type {\n",
       "        vertical-align: middle;\n",
       "    }\n",
       "\n",
       "    .dataframe tbody tr th {\n",
       "        vertical-align: top;\n",
       "    }\n",
       "\n",
       "    .dataframe thead th {\n",
       "        text-align: right;\n",
       "    }\n",
       "</style>\n",
       "<table border=\"1\" class=\"dataframe\">\n",
       "  <thead>\n",
       "    <tr style=\"text-align: right;\">\n",
       "      <th></th>\n",
       "      <th>Review_Date</th>\n",
       "      <th>Author_Name</th>\n",
       "      <th>Vehicle_Title</th>\n",
       "      <th>Review_Title</th>\n",
       "      <th>Review</th>\n",
       "      <th>Rating</th>\n",
       "    </tr>\n",
       "  </thead>\n",
       "  <tbody>\n",
       "    <tr>\n",
       "      <th>0</th>\n",
       "      <td>on 03/28/18 20:22 PM (PDT)</td>\n",
       "      <td>Kiowa1@gmail.com</td>\n",
       "      <td>2006 Hyundai Azera Sedan Limited 4dr Sedan (3....</td>\n",
       "      <td>Excellent Value</td>\n",
       "      <td>I bought the 2006 Azera Limited in June of 20...</td>\n",
       "      <td>4.0</td>\n",
       "    </tr>\n",
       "    <tr>\n",
       "      <th>1</th>\n",
       "      <td>on 05/02/17 18:03 PM (PDT)</td>\n",
       "      <td>SiGung</td>\n",
       "      <td>2006 Hyundai Azera Sedan Limited 4dr Sedan (3....</td>\n",
       "      <td>Don't even waste your time looking much less b...</td>\n",
       "      <td>Electrical nightmare.  Dealer cost for repair...</td>\n",
       "      <td>1.0</td>\n",
       "    </tr>\n",
       "    <tr>\n",
       "      <th>2</th>\n",
       "      <td>on 05/02/17 18:03 PM (PDT)</td>\n",
       "      <td>SiGung</td>\n",
       "      <td>2006 Hyundai Azera Sedan Limited 4dr Sedan (3....</td>\n",
       "      <td>Great car</td>\n",
       "      <td>Great car, great ride, would have better mile...</td>\n",
       "      <td>5.0</td>\n",
       "    </tr>\n",
       "  </tbody>\n",
       "</table>\n",
       "</div>"
      ],
      "text/plain": [
       "                   Review_Date        Author_Name  \\\n",
       "0   on 03/28/18 20:22 PM (PDT)  Kiowa1@gmail.com    \n",
       "1   on 05/02/17 18:03 PM (PDT)            SiGung    \n",
       "2   on 05/02/17 18:03 PM (PDT)            SiGung    \n",
       "\n",
       "                                       Vehicle_Title  \\\n",
       "0  2006 Hyundai Azera Sedan Limited 4dr Sedan (3....   \n",
       "1  2006 Hyundai Azera Sedan Limited 4dr Sedan (3....   \n",
       "2  2006 Hyundai Azera Sedan Limited 4dr Sedan (3....   \n",
       "\n",
       "                                        Review_Title  \\\n",
       "0                                    Excellent Value   \n",
       "1  Don't even waste your time looking much less b...   \n",
       "2                                          Great car   \n",
       "\n",
       "                                              Review  Rating  \n",
       "0   I bought the 2006 Azera Limited in June of 20...     4.0  \n",
       "1   Electrical nightmare.  Dealer cost for repair...     1.0  \n",
       "2   Great car, great ride, would have better mile...     5.0  "
      ]
     },
     "execution_count": 60,
     "metadata": {},
     "output_type": "execute_result"
    }
   ],
   "source": [
    "df_hyundai.head(3)"
   ]
  },
  {
   "cell_type": "code",
   "execution_count": 61,
   "metadata": {
    "ExecuteTime": {
     "end_time": "2021-04-30T00:26:30.843481Z",
     "start_time": "2021-04-30T00:26:30.829947Z"
    }
   },
   "outputs": [
    {
     "name": "stdout",
     "output_type": "stream",
     "text": [
      "<class 'pandas.core.frame.DataFrame'>\n",
      "RangeIndex: 9361 entries, 0 to 9360\n",
      "Data columns (total 6 columns):\n",
      " #   Column         Non-Null Count  Dtype  \n",
      "---  ------         --------------  -----  \n",
      " 0   Review_Date    8440 non-null   object \n",
      " 1   Author_Name    8226 non-null   object \n",
      " 2   Vehicle_Title  8226 non-null   object \n",
      " 3   Review_Title   8226 non-null   object \n",
      " 4   Review         8226 non-null   object \n",
      " 5   Rating         8012 non-null   float64\n",
      "dtypes: float64(1), object(5)\n",
      "memory usage: 438.9+ KB\n"
     ]
    }
   ],
   "source": [
    "df_hyundai.info()"
   ]
  },
  {
   "cell_type": "markdown",
   "metadata": {},
   "source": [
    "## null droping\n",
    "- rating 기준으로 삭제합니다."
   ]
  },
  {
   "cell_type": "code",
   "execution_count": 62,
   "metadata": {
    "ExecuteTime": {
     "end_time": "2021-04-30T00:26:32.561595Z",
     "start_time": "2021-04-30T00:26:32.554153Z"
    }
   },
   "outputs": [
    {
     "data": {
      "text/plain": [
       "1349"
      ]
     },
     "execution_count": 62,
     "metadata": {},
     "output_type": "execute_result"
    }
   ],
   "source": [
    "df_hyundai['Rating'].isna().sum()"
   ]
  },
  {
   "cell_type": "code",
   "execution_count": 63,
   "metadata": {
    "ExecuteTime": {
     "end_time": "2021-04-30T00:26:33.922835Z",
     "start_time": "2021-04-30T00:26:33.913740Z"
    },
    "scrolled": true
   },
   "outputs": [
    {
     "data": {
      "text/html": [
       "<div>\n",
       "<style scoped>\n",
       "    .dataframe tbody tr th:only-of-type {\n",
       "        vertical-align: middle;\n",
       "    }\n",
       "\n",
       "    .dataframe tbody tr th {\n",
       "        vertical-align: top;\n",
       "    }\n",
       "\n",
       "    .dataframe thead th {\n",
       "        text-align: right;\n",
       "    }\n",
       "</style>\n",
       "<table border=\"1\" class=\"dataframe\">\n",
       "  <thead>\n",
       "    <tr style=\"text-align: right;\">\n",
       "      <th></th>\n",
       "      <th>Review_Date</th>\n",
       "      <th>Author_Name</th>\n",
       "      <th>Vehicle_Title</th>\n",
       "      <th>Review_Title</th>\n",
       "      <th>Review</th>\n",
       "      <th>Rating</th>\n",
       "    </tr>\n",
       "  </thead>\n",
       "  <tbody>\n",
       "  </tbody>\n",
       "</table>\n",
       "</div>"
      ],
      "text/plain": [
       "Empty DataFrame\n",
       "Columns: [Review_Date, Author_Name, Vehicle_Title, Review_Title, Review, Rating]\n",
       "Index: []"
      ]
     },
     "execution_count": 63,
     "metadata": {},
     "output_type": "execute_result"
    }
   ],
   "source": [
    "df_hyundai[df_hyundai['Rating']==np.nan]"
   ]
  },
  {
   "cell_type": "code",
   "execution_count": 66,
   "metadata": {
    "ExecuteTime": {
     "end_time": "2021-04-30T00:32:15.934844Z",
     "start_time": "2021-04-30T00:32:15.927351Z"
    }
   },
   "outputs": [],
   "source": [
    "df_hyundai_dropna = df_hyundai.dropna(subset=['Rating'])"
   ]
  },
  {
   "cell_type": "code",
   "execution_count": 68,
   "metadata": {
    "ExecuteTime": {
     "end_time": "2021-04-30T00:32:27.557687Z",
     "start_time": "2021-04-30T00:32:27.544443Z"
    }
   },
   "outputs": [
    {
     "name": "stdout",
     "output_type": "stream",
     "text": [
      "<class 'pandas.core.frame.DataFrame'>\n",
      "Int64Index: 8012 entries, 0 to 9360\n",
      "Data columns (total 6 columns):\n",
      " #   Column         Non-Null Count  Dtype  \n",
      "---  ------         --------------  -----  \n",
      " 0   Review_Date    8012 non-null   object \n",
      " 1   Author_Name    8012 non-null   object \n",
      " 2   Vehicle_Title  8012 non-null   object \n",
      " 3   Review_Title   8012 non-null   object \n",
      " 4   Review         8012 non-null   object \n",
      " 5   Rating         8012 non-null   float64\n",
      "dtypes: float64(1), object(5)\n",
      "memory usage: 438.2+ KB\n"
     ]
    }
   ],
   "source": [
    "df_hyundai_dropna.info()"
   ]
  },
  {
   "cell_type": "code",
   "execution_count": 71,
   "metadata": {
    "ExecuteTime": {
     "end_time": "2021-04-30T00:48:52.386624Z",
     "start_time": "2021-04-30T00:48:52.381808Z"
    }
   },
   "outputs": [],
   "source": [
    "df_hyundai_drop = df_hyundai.copy()"
   ]
  },
  {
   "cell_type": "code",
   "execution_count": 128,
   "metadata": {
    "ExecuteTime": {
     "end_time": "2021-04-30T01:07:24.490439Z",
     "start_time": "2021-04-30T01:07:24.482580Z"
    }
   },
   "outputs": [],
   "source": [
    "for i in df_hyundai_drop['Rating']:\n",
    "    if i == np.float64(np.nan):\n",
    "        print(i)"
   ]
  },
  {
   "cell_type": "code",
   "execution_count": 122,
   "metadata": {
    "ExecuteTime": {
     "end_time": "2021-04-30T01:02:18.332315Z",
     "start_time": "2021-04-30T01:02:18.317317Z"
    }
   },
   "outputs": [
    {
     "data": {
      "text/plain": [
       "RangeIndex(start=0, stop=9361, step=1)"
      ]
     },
     "execution_count": 122,
     "metadata": {},
     "output_type": "execute_result"
    }
   ],
   "source": [
    "df_hyundai_drop['Rating'].index"
   ]
  },
  {
   "cell_type": "code",
   "execution_count": 83,
   "metadata": {
    "ExecuteTime": {
     "end_time": "2021-04-30T00:51:43.915018Z",
     "start_time": "2021-04-30T00:51:43.886920Z"
    }
   },
   "outputs": [
    {
     "name": "stdout",
     "output_type": "stream",
     "text": [
      "<class 'pandas.core.frame.DataFrame'>\n",
      "RangeIndex: 9361 entries, 0 to 9360\n",
      "Data columns (total 6 columns):\n",
      " #   Column         Non-Null Count  Dtype  \n",
      "---  ------         --------------  -----  \n",
      " 0   Review_Date    8440 non-null   object \n",
      " 1   Author_Name    8226 non-null   object \n",
      " 2   Vehicle_Title  8226 non-null   object \n",
      " 3   Review_Title   8226 non-null   object \n",
      " 4   Review         8226 non-null   object \n",
      " 5   Rating         8012 non-null   float64\n",
      "dtypes: float64(1), object(5)\n",
      "memory usage: 438.9+ KB\n"
     ]
    }
   ],
   "source": [
    "df_hyundai_drop.info()"
   ]
  },
  {
   "cell_type": "code",
   "execution_count": 133,
   "metadata": {
    "ExecuteTime": {
     "end_time": "2021-04-30T01:08:21.707959Z",
     "start_time": "2021-04-30T01:08:21.699905Z"
    }
   },
   "outputs": [],
   "source": [
    "df_hyundai_drop = df_hyundai_drop.drop(index=df_hyundai_drop[df_hyundai_drop.Rating.isnull() == True].index)"
   ]
  },
  {
   "cell_type": "code",
   "execution_count": 134,
   "metadata": {
    "ExecuteTime": {
     "end_time": "2021-04-30T01:08:22.064343Z",
     "start_time": "2021-04-30T01:08:22.048696Z"
    }
   },
   "outputs": [
    {
     "name": "stdout",
     "output_type": "stream",
     "text": [
      "<class 'pandas.core.frame.DataFrame'>\n",
      "Int64Index: 8012 entries, 0 to 9360\n",
      "Data columns (total 6 columns):\n",
      " #   Column         Non-Null Count  Dtype  \n",
      "---  ------         --------------  -----  \n",
      " 0   Review_Date    8012 non-null   object \n",
      " 1   Author_Name    8012 non-null   object \n",
      " 2   Vehicle_Title  8012 non-null   object \n",
      " 3   Review_Title   8012 non-null   object \n",
      " 4   Review         8012 non-null   object \n",
      " 5   Rating         8012 non-null   float64\n",
      "dtypes: float64(1), object(5)\n",
      "memory usage: 438.2+ KB\n"
     ]
    }
   ],
   "source": [
    "df_hyundai_drop.info()"
   ]
  },
  {
   "cell_type": "code",
   "execution_count": 135,
   "metadata": {
    "ExecuteTime": {
     "end_time": "2021-04-30T01:14:01.518088Z",
     "start_time": "2021-04-30T01:14:01.472239Z"
    }
   },
   "outputs": [
    {
     "data": {
      "text/html": [
       "<div>\n",
       "<style scoped>\n",
       "    .dataframe tbody tr th:only-of-type {\n",
       "        vertical-align: middle;\n",
       "    }\n",
       "\n",
       "    .dataframe tbody tr th {\n",
       "        vertical-align: top;\n",
       "    }\n",
       "\n",
       "    .dataframe thead th {\n",
       "        text-align: right;\n",
       "    }\n",
       "</style>\n",
       "<table border=\"1\" class=\"dataframe\">\n",
       "  <thead>\n",
       "    <tr style=\"text-align: right;\">\n",
       "      <th></th>\n",
       "      <th>Rating</th>\n",
       "    </tr>\n",
       "  </thead>\n",
       "  <tbody>\n",
       "    <tr>\n",
       "      <th>count</th>\n",
       "      <td>8012.000000</td>\n",
       "    </tr>\n",
       "    <tr>\n",
       "      <th>mean</th>\n",
       "      <td>4.249095</td>\n",
       "    </tr>\n",
       "    <tr>\n",
       "      <th>std</th>\n",
       "      <td>0.963797</td>\n",
       "    </tr>\n",
       "    <tr>\n",
       "      <th>min</th>\n",
       "      <td>1.000000</td>\n",
       "    </tr>\n",
       "    <tr>\n",
       "      <th>25%</th>\n",
       "      <td>4.000000</td>\n",
       "    </tr>\n",
       "    <tr>\n",
       "      <th>50%</th>\n",
       "      <td>4.625000</td>\n",
       "    </tr>\n",
       "    <tr>\n",
       "      <th>75%</th>\n",
       "      <td>5.000000</td>\n",
       "    </tr>\n",
       "    <tr>\n",
       "      <th>max</th>\n",
       "      <td>5.000000</td>\n",
       "    </tr>\n",
       "  </tbody>\n",
       "</table>\n",
       "</div>"
      ],
      "text/plain": [
       "            Rating\n",
       "count  8012.000000\n",
       "mean      4.249095\n",
       "std       0.963797\n",
       "min       1.000000\n",
       "25%       4.000000\n",
       "50%       4.625000\n",
       "75%       5.000000\n",
       "max       5.000000"
      ]
     },
     "execution_count": 135,
     "metadata": {},
     "output_type": "execute_result"
    }
   ],
   "source": [
    "df_hyundai_dropna.describe()"
   ]
  },
  {
   "cell_type": "code",
   "execution_count": 137,
   "metadata": {
    "ExecuteTime": {
     "end_time": "2021-04-30T01:14:28.883447Z",
     "start_time": "2021-04-30T01:14:28.880893Z"
    }
   },
   "outputs": [],
   "source": [
    "import matplotlib.pyplot as plt"
   ]
  },
  {
   "cell_type": "code",
   "execution_count": 139,
   "metadata": {
    "ExecuteTime": {
     "end_time": "2021-04-30T01:14:47.548627Z",
     "start_time": "2021-04-30T01:14:47.411184Z"
    }
   },
   "outputs": [
    {
     "data": {
      "image/png": "[encoded data removed]",
      "text/plain": [
       "<Figure size 432x288 with 1 Axes>"
      ]
     },
     "metadata": {
      "needs_background": "light"
     },
     "output_type": "display_data"
    }
   ],
   "source": [
    "plt.hist(df_hyundai_dropna['Rating'])"
   ]
  },
  {
   "cell_type": "code",
   "execution_count": 161,
   "metadata": {
    "ExecuteTime": {
     "end_time": "2021-04-30T01:23:54.663266Z",
     "start_time": "2021-04-30T01:23:54.656366Z"
    }
   },
   "outputs": [
    {
     "data": {
      "text/plain": [
       "5.000    2309\n",
       "4.875     925\n",
       "4.000     640\n",
       "4.750     629\n",
       "4.625     484\n",
       "Name: Rating, dtype: int64"
      ]
     },
     "execution_count": 161,
     "metadata": {},
     "output_type": "execute_result"
    }
   ],
   "source": [
    "df_hyundai_dropna['Rating'].value_counts().head()"
   ]
  },
  {
   "cell_type": "code",
   "execution_count": 276,
   "metadata": {
    "ExecuteTime": {
     "end_time": "2021-04-30T05:41:30.268469Z",
     "start_time": "2021-04-30T05:41:30.259365Z"
    }
   },
   "outputs": [
    {
     "data": {
      "text/plain": [
       "5.000    2309\n",
       "4.875     925\n",
       "4.000     640\n",
       "4.750     629\n",
       "4.625     484\n",
       "4.500     363\n",
       "4.375     311\n",
       "4.250     281\n",
       "3.000     268\n",
       "4.125     213\n",
       "1.000     171\n",
       "3.875     168\n",
       "2.000     165\n",
       "3.625     131\n",
       "3.750     127\n",
       "3.500      90\n",
       "3.250      79\n",
       "3.375      78\n",
       "2.875      70\n",
       "3.125      66\n",
       "2.750      65\n",
       "2.625      57\n",
       "2.500      57\n",
       "Name: Rating, dtype: int64"
      ]
     },
     "execution_count": 276,
     "metadata": {},
     "output_type": "execute_result"
    }
   ],
   "source": [
    "df_hyundai_dropna['Rating'].value_counts()[:2.5]"
   ]
  },
  {
   "cell_type": "code",
   "execution_count": 294,
   "metadata": {
    "ExecuteTime": {
     "end_time": "2021-04-30T05:44:16.527672Z",
     "start_time": "2021-04-30T05:44:16.514708Z"
    }
   },
   "outputs": [],
   "source": [
    "ser_test = df_hyundai_dropna['Rating'].value_counts()[:2.5]"
   ]
  },
  {
   "cell_type": "code",
   "execution_count": 163,
   "metadata": {
    "ExecuteTime": {
     "end_time": "2021-04-30T01:24:21.432908Z",
     "start_time": "2021-04-30T01:24:21.420896Z"
    }
   },
   "outputs": [
    {
     "data": {
      "text/plain": [
       "Elantra    472\n",
       "Sonata     455\n",
       "Santa      279\n",
       "Genesis    277\n",
       "Accent     210\n",
       "Name: Vehicle_Title, dtype: int64"
      ]
     },
     "execution_count": 163,
     "metadata": {},
     "output_type": "execute_result"
    }
   ],
   "source": [
    "# 별점 5점을 받은 모델 순위 리스트\n",
    "df_hyundai_dropna[df_hyundai_dropna['Rating'] == 5]['Vehicle_Title'].apply(lambda x : x.split(' ')[2]).value_counts()[:5]"
   ]
  },
  {
   "cell_type": "code",
   "execution_count": 171,
   "metadata": {
    "ExecuteTime": {
     "end_time": "2021-04-30T02:02:48.529488Z",
     "start_time": "2021-04-30T02:02:48.526151Z"
    }
   },
   "outputs": [],
   "source": [
    "def top_rating(star):\n",
    "    return df_hyundai_dropna[df_hyundai_dropna['Rating'] == star]['Vehicle_Title'].apply(lambda x : x.split(' ')[2]).value_counts()[:5]"
   ]
  },
  {
   "cell_type": "code",
   "execution_count": 178,
   "metadata": {
    "ExecuteTime": {
     "end_time": "2021-04-30T02:03:33.625452Z",
     "start_time": "2021-04-30T02:03:33.616693Z"
    }
   },
   "outputs": [
    {
     "data": {
      "text/plain": [
       "Sonata     45\n",
       "Elantra    30\n",
       "Tucson     29\n",
       "Santa      22\n",
       "Accent     13\n",
       "Name: Vehicle_Title, dtype: int64"
      ]
     },
     "execution_count": 178,
     "metadata": {},
     "output_type": "execute_result"
    }
   ],
   "source": [
    "top_rating(1)"
   ]
  },
  {
   "cell_type": "code",
   "execution_count": 180,
   "metadata": {
    "ExecuteTime": {
     "end_time": "2021-04-30T02:17:29.044462Z",
     "start_time": "2021-04-30T02:17:29.032188Z"
    }
   },
   "outputs": [
    {
     "data": {
      "text/html": [
       "<div>\n",
       "<style scoped>\n",
       "    .dataframe tbody tr th:only-of-type {\n",
       "        vertical-align: middle;\n",
       "    }\n",
       "\n",
       "    .dataframe tbody tr th {\n",
       "        vertical-align: top;\n",
       "    }\n",
       "\n",
       "    .dataframe thead th {\n",
       "        text-align: right;\n",
       "    }\n",
       "</style>\n",
       "<table border=\"1\" class=\"dataframe\">\n",
       "  <thead>\n",
       "    <tr style=\"text-align: right;\">\n",
       "      <th></th>\n",
       "      <th>Review_Date</th>\n",
       "      <th>Author_Name</th>\n",
       "      <th>Vehicle_Title</th>\n",
       "      <th>Review_Title</th>\n",
       "      <th>Review</th>\n",
       "      <th>Rating</th>\n",
       "    </tr>\n",
       "  </thead>\n",
       "  <tbody>\n",
       "    <tr>\n",
       "      <th>0</th>\n",
       "      <td>on 03/28/18 20:22 PM (PDT)</td>\n",
       "      <td>Kiowa1@gmail.com</td>\n",
       "      <td>2006 Hyundai Azera Sedan Limited 4dr Sedan (3....</td>\n",
       "      <td>Excellent Value</td>\n",
       "      <td>I bought the 2006 Azera Limited in June of 20...</td>\n",
       "      <td>4.0</td>\n",
       "    </tr>\n",
       "    <tr>\n",
       "      <th>1</th>\n",
       "      <td>on 05/02/17 18:03 PM (PDT)</td>\n",
       "      <td>SiGung</td>\n",
       "      <td>2006 Hyundai Azera Sedan Limited 4dr Sedan (3....</td>\n",
       "      <td>Don't even waste your time looking much less b...</td>\n",
       "      <td>Electrical nightmare.  Dealer cost for repair...</td>\n",
       "      <td>1.0</td>\n",
       "    </tr>\n",
       "    <tr>\n",
       "      <th>2</th>\n",
       "      <td>on 05/02/17 18:03 PM (PDT)</td>\n",
       "      <td>SiGung</td>\n",
       "      <td>2006 Hyundai Azera Sedan Limited 4dr Sedan (3....</td>\n",
       "      <td>Great car</td>\n",
       "      <td>Great car, great ride, would have better mile...</td>\n",
       "      <td>5.0</td>\n",
       "    </tr>\n",
       "    <tr>\n",
       "      <th>3</th>\n",
       "      <td>on 03/27/17 14:49 PM (PDT)</td>\n",
       "      <td>Kevin Gibson</td>\n",
       "      <td>2006 Hyundai Azera Sedan Limited 4dr Sedan (3....</td>\n",
       "      <td>Best car ever</td>\n",
       "      <td>I absolutly love my Azera. The performance is...</td>\n",
       "      <td>5.0</td>\n",
       "    </tr>\n",
       "    <tr>\n",
       "      <th>4</th>\n",
       "      <td>on 01/10/17 10:22 AM (PST)</td>\n",
       "      <td>Nick Casper</td>\n",
       "      <td>2006 Hyundai Azera Sedan Limited 4dr Sedan (3....</td>\n",
       "      <td>Good value for luxury</td>\n",
       "      <td>We have had our 2006 Azera from nearly new (3...</td>\n",
       "      <td>4.0</td>\n",
       "    </tr>\n",
       "  </tbody>\n",
       "</table>\n",
       "</div>"
      ],
      "text/plain": [
       "                   Review_Date        Author_Name  \\\n",
       "0   on 03/28/18 20:22 PM (PDT)  Kiowa1@gmail.com    \n",
       "1   on 05/02/17 18:03 PM (PDT)            SiGung    \n",
       "2   on 05/02/17 18:03 PM (PDT)            SiGung    \n",
       "3   on 03/27/17 14:49 PM (PDT)      Kevin Gibson    \n",
       "4   on 01/10/17 10:22 AM (PST)       Nick Casper    \n",
       "\n",
       "                                       Vehicle_Title  \\\n",
       "0  2006 Hyundai Azera Sedan Limited 4dr Sedan (3....   \n",
       "1  2006 Hyundai Azera Sedan Limited 4dr Sedan (3....   \n",
       "2  2006 Hyundai Azera Sedan Limited 4dr Sedan (3....   \n",
       "3  2006 Hyundai Azera Sedan Limited 4dr Sedan (3....   \n",
       "4  2006 Hyundai Azera Sedan Limited 4dr Sedan (3....   \n",
       "\n",
       "                                        Review_Title  \\\n",
       "0                                    Excellent Value   \n",
       "1  Don't even waste your time looking much less b...   \n",
       "2                                          Great car   \n",
       "3                                      Best car ever   \n",
       "4                              Good value for luxury   \n",
       "\n",
       "                                              Review  Rating  \n",
       "0   I bought the 2006 Azera Limited in June of 20...     4.0  \n",
       "1   Electrical nightmare.  Dealer cost for repair...     1.0  \n",
       "2   Great car, great ride, would have better mile...     5.0  \n",
       "3   I absolutly love my Azera. The performance is...     5.0  \n",
       "4   We have had our 2006 Azera from nearly new (3...     4.0  "
      ]
     },
     "execution_count": 180,
     "metadata": {},
     "output_type": "execute_result"
    }
   ],
   "source": [
    "df_hyundai_dropna.head()"
   ]
  },
  {
   "cell_type": "code",
   "execution_count": 183,
   "metadata": {
    "ExecuteTime": {
     "end_time": "2021-04-30T02:19:10.881397Z",
     "start_time": "2021-04-30T02:19:10.868049Z"
    }
   },
   "outputs": [
    {
     "data": {
      "text/plain": [
       "0       03/28/18\n",
       "1       05/02/17\n",
       "2       05/02/17\n",
       "3       03/27/17\n",
       "4       01/10/17\n",
       "          ...   \n",
       "9356    07/29/08\n",
       "9357    07/13/08\n",
       "9358    06/28/08\n",
       "9359    06/16/08\n",
       "9360    05/22/08\n",
       "Name: Review_Date, Length: 8012, dtype: object"
      ]
     },
     "execution_count": 183,
     "metadata": {},
     "output_type": "execute_result"
    }
   ],
   "source": [
    "df_hyundai_dropna['Review_Date'].apply(lambda x : x.split(' ')[2])"
   ]
  },
  {
   "cell_type": "code",
   "execution_count": 185,
   "metadata": {
    "ExecuteTime": {
     "end_time": "2021-04-30T02:20:24.793820Z",
     "start_time": "2021-04-30T02:20:24.749170Z"
    }
   },
   "outputs": [
    {
     "data": {
      "text/html": [
       "<div>\n",
       "<style scoped>\n",
       "    .dataframe tbody tr th:only-of-type {\n",
       "        vertical-align: middle;\n",
       "    }\n",
       "\n",
       "    .dataframe tbody tr th {\n",
       "        vertical-align: top;\n",
       "    }\n",
       "\n",
       "    .dataframe thead th {\n",
       "        text-align: right;\n",
       "    }\n",
       "</style>\n",
       "<table border=\"1\" class=\"dataframe\">\n",
       "  <thead>\n",
       "    <tr style=\"text-align: right;\">\n",
       "      <th></th>\n",
       "      <th>Review_Date</th>\n",
       "      <th>Author_Name</th>\n",
       "      <th>Vehicle_Title</th>\n",
       "      <th>Review_Title</th>\n",
       "      <th>Review</th>\n",
       "      <th>Rating</th>\n",
       "      <th>Review_Time</th>\n",
       "    </tr>\n",
       "  </thead>\n",
       "  <tbody>\n",
       "    <tr>\n",
       "      <th>0</th>\n",
       "      <td>on 03/28/18 20:22 PM (PDT)</td>\n",
       "      <td>Kiowa1@gmail.com</td>\n",
       "      <td>2006 Hyundai Azera Sedan Limited 4dr Sedan (3....</td>\n",
       "      <td>Excellent Value</td>\n",
       "      <td>I bought the 2006 Azera Limited in June of 20...</td>\n",
       "      <td>4.0</td>\n",
       "      <td>2018-03-28</td>\n",
       "    </tr>\n",
       "    <tr>\n",
       "      <th>1</th>\n",
       "      <td>on 05/02/17 18:03 PM (PDT)</td>\n",
       "      <td>SiGung</td>\n",
       "      <td>2006 Hyundai Azera Sedan Limited 4dr Sedan (3....</td>\n",
       "      <td>Don't even waste your time looking much less b...</td>\n",
       "      <td>Electrical nightmare.  Dealer cost for repair...</td>\n",
       "      <td>1.0</td>\n",
       "      <td>2017-05-02</td>\n",
       "    </tr>\n",
       "    <tr>\n",
       "      <th>2</th>\n",
       "      <td>on 05/02/17 18:03 PM (PDT)</td>\n",
       "      <td>SiGung</td>\n",
       "      <td>2006 Hyundai Azera Sedan Limited 4dr Sedan (3....</td>\n",
       "      <td>Great car</td>\n",
       "      <td>Great car, great ride, would have better mile...</td>\n",
       "      <td>5.0</td>\n",
       "      <td>2017-05-02</td>\n",
       "    </tr>\n",
       "    <tr>\n",
       "      <th>3</th>\n",
       "      <td>on 03/27/17 14:49 PM (PDT)</td>\n",
       "      <td>Kevin Gibson</td>\n",
       "      <td>2006 Hyundai Azera Sedan Limited 4dr Sedan (3....</td>\n",
       "      <td>Best car ever</td>\n",
       "      <td>I absolutly love my Azera. The performance is...</td>\n",
       "      <td>5.0</td>\n",
       "      <td>2017-03-27</td>\n",
       "    </tr>\n",
       "    <tr>\n",
       "      <th>4</th>\n",
       "      <td>on 01/10/17 10:22 AM (PST)</td>\n",
       "      <td>Nick Casper</td>\n",
       "      <td>2006 Hyundai Azera Sedan Limited 4dr Sedan (3....</td>\n",
       "      <td>Good value for luxury</td>\n",
       "      <td>We have had our 2006 Azera from nearly new (3...</td>\n",
       "      <td>4.0</td>\n",
       "      <td>2017-01-10</td>\n",
       "    </tr>\n",
       "  </tbody>\n",
       "</table>\n",
       "</div>"
      ],
      "text/plain": [
       "                   Review_Date        Author_Name  \\\n",
       "0   on 03/28/18 20:22 PM (PDT)  Kiowa1@gmail.com    \n",
       "1   on 05/02/17 18:03 PM (PDT)            SiGung    \n",
       "2   on 05/02/17 18:03 PM (PDT)            SiGung    \n",
       "3   on 03/27/17 14:49 PM (PDT)      Kevin Gibson    \n",
       "4   on 01/10/17 10:22 AM (PST)       Nick Casper    \n",
       "\n",
       "                                       Vehicle_Title  \\\n",
       "0  2006 Hyundai Azera Sedan Limited 4dr Sedan (3....   \n",
       "1  2006 Hyundai Azera Sedan Limited 4dr Sedan (3....   \n",
       "2  2006 Hyundai Azera Sedan Limited 4dr Sedan (3....   \n",
       "3  2006 Hyundai Azera Sedan Limited 4dr Sedan (3....   \n",
       "4  2006 Hyundai Azera Sedan Limited 4dr Sedan (3....   \n",
       "\n",
       "                                        Review_Title  \\\n",
       "0                                    Excellent Value   \n",
       "1  Don't even waste your time looking much less b...   \n",
       "2                                          Great car   \n",
       "3                                      Best car ever   \n",
       "4                              Good value for luxury   \n",
       "\n",
       "                                              Review  Rating Review_Time  \n",
       "0   I bought the 2006 Azera Limited in June of 20...     4.0  2018-03-28  \n",
       "1   Electrical nightmare.  Dealer cost for repair...     1.0  2017-05-02  \n",
       "2   Great car, great ride, would have better mile...     5.0  2017-05-02  \n",
       "3   I absolutly love my Azera. The performance is...     5.0  2017-03-27  \n",
       "4   We have had our 2006 Azera from nearly new (3...     4.0  2017-01-10  "
      ]
     },
     "execution_count": 185,
     "metadata": {},
     "output_type": "execute_result"
    }
   ],
   "source": [
    "df_hyundai_dropna['Review_Time'] = pd.to_datetime(df_hyundai_dropna['Review_Date'].apply(lambda x : x.split(' ')[2]), format=\"%m/%d/%y\")\n",
    "df_hyundai_dropna.head()"
   ]
  },
  {
   "cell_type": "code",
   "execution_count": 210,
   "metadata": {
    "ExecuteTime": {
     "end_time": "2021-04-30T03:46:11.721498Z",
     "start_time": "2021-04-30T03:46:11.702064Z"
    }
   },
   "outputs": [
    {
     "data": {
      "text/html": [
       "<div>\n",
       "<style scoped>\n",
       "    .dataframe tbody tr th:only-of-type {\n",
       "        vertical-align: middle;\n",
       "    }\n",
       "\n",
       "    .dataframe tbody tr th {\n",
       "        vertical-align: top;\n",
       "    }\n",
       "\n",
       "    .dataframe thead th {\n",
       "        text-align: right;\n",
       "    }\n",
       "</style>\n",
       "<table border=\"1\" class=\"dataframe\">\n",
       "  <thead>\n",
       "    <tr style=\"text-align: right;\">\n",
       "      <th></th>\n",
       "      <th>Review_Date</th>\n",
       "      <th>Author_Name</th>\n",
       "      <th>Vehicle_Title</th>\n",
       "      <th>Review_Title</th>\n",
       "      <th>Review</th>\n",
       "      <th>Rating</th>\n",
       "      <th>Review_Time</th>\n",
       "      <th>Review_clock</th>\n",
       "    </tr>\n",
       "  </thead>\n",
       "  <tbody>\n",
       "    <tr>\n",
       "      <th>0</th>\n",
       "      <td>on 03/28/18 20:22 PM (PDT)</td>\n",
       "      <td>Kiowa1@gmail.com</td>\n",
       "      <td>2006 Hyundai Azera Sedan Limited 4dr Sedan (3....</td>\n",
       "      <td>Excellent Value</td>\n",
       "      <td>I bought the 2006 Azera Limited in June of 20...</td>\n",
       "      <td>4.0</td>\n",
       "      <td>2018-03-28</td>\n",
       "      <td>20:22</td>\n",
       "    </tr>\n",
       "    <tr>\n",
       "      <th>1</th>\n",
       "      <td>on 05/02/17 18:03 PM (PDT)</td>\n",
       "      <td>SiGung</td>\n",
       "      <td>2006 Hyundai Azera Sedan Limited 4dr Sedan (3....</td>\n",
       "      <td>Don't even waste your time looking much less b...</td>\n",
       "      <td>Electrical nightmare.  Dealer cost for repair...</td>\n",
       "      <td>1.0</td>\n",
       "      <td>2017-05-02</td>\n",
       "      <td>18:03</td>\n",
       "    </tr>\n",
       "    <tr>\n",
       "      <th>2</th>\n",
       "      <td>on 05/02/17 18:03 PM (PDT)</td>\n",
       "      <td>SiGung</td>\n",
       "      <td>2006 Hyundai Azera Sedan Limited 4dr Sedan (3....</td>\n",
       "      <td>Great car</td>\n",
       "      <td>Great car, great ride, would have better mile...</td>\n",
       "      <td>5.0</td>\n",
       "      <td>2017-05-02</td>\n",
       "      <td>18:03</td>\n",
       "    </tr>\n",
       "    <tr>\n",
       "      <th>3</th>\n",
       "      <td>on 03/27/17 14:49 PM (PDT)</td>\n",
       "      <td>Kevin Gibson</td>\n",
       "      <td>2006 Hyundai Azera Sedan Limited 4dr Sedan (3....</td>\n",
       "      <td>Best car ever</td>\n",
       "      <td>I absolutly love my Azera. The performance is...</td>\n",
       "      <td>5.0</td>\n",
       "      <td>2017-03-27</td>\n",
       "      <td>14:49</td>\n",
       "    </tr>\n",
       "    <tr>\n",
       "      <th>4</th>\n",
       "      <td>on 01/10/17 10:22 AM (PST)</td>\n",
       "      <td>Nick Casper</td>\n",
       "      <td>2006 Hyundai Azera Sedan Limited 4dr Sedan (3....</td>\n",
       "      <td>Good value for luxury</td>\n",
       "      <td>We have had our 2006 Azera from nearly new (3...</td>\n",
       "      <td>4.0</td>\n",
       "      <td>2017-01-10</td>\n",
       "      <td>10:22</td>\n",
       "    </tr>\n",
       "  </tbody>\n",
       "</table>\n",
       "</div>"
      ],
      "text/plain": [
       "                   Review_Date        Author_Name  \\\n",
       "0   on 03/28/18 20:22 PM (PDT)  Kiowa1@gmail.com    \n",
       "1   on 05/02/17 18:03 PM (PDT)            SiGung    \n",
       "2   on 05/02/17 18:03 PM (PDT)            SiGung    \n",
       "3   on 03/27/17 14:49 PM (PDT)      Kevin Gibson    \n",
       "4   on 01/10/17 10:22 AM (PST)       Nick Casper    \n",
       "\n",
       "                                       Vehicle_Title  \\\n",
       "0  2006 Hyundai Azera Sedan Limited 4dr Sedan (3....   \n",
       "1  2006 Hyundai Azera Sedan Limited 4dr Sedan (3....   \n",
       "2  2006 Hyundai Azera Sedan Limited 4dr Sedan (3....   \n",
       "3  2006 Hyundai Azera Sedan Limited 4dr Sedan (3....   \n",
       "4  2006 Hyundai Azera Sedan Limited 4dr Sedan (3....   \n",
       "\n",
       "                                        Review_Title  \\\n",
       "0                                    Excellent Value   \n",
       "1  Don't even waste your time looking much less b...   \n",
       "2                                          Great car   \n",
       "3                                      Best car ever   \n",
       "4                              Good value for luxury   \n",
       "\n",
       "                                              Review  Rating Review_Time  \\\n",
       "0   I bought the 2006 Azera Limited in June of 20...     4.0  2018-03-28   \n",
       "1   Electrical nightmare.  Dealer cost for repair...     1.0  2017-05-02   \n",
       "2   Great car, great ride, would have better mile...     5.0  2017-05-02   \n",
       "3   I absolutly love my Azera. The performance is...     5.0  2017-03-27   \n",
       "4   We have had our 2006 Azera from nearly new (3...     4.0  2017-01-10   \n",
       "\n",
       "  Review_clock  \n",
       "0        20:22  \n",
       "1        18:03  \n",
       "2        18:03  \n",
       "3        14:49  \n",
       "4        10:22  "
      ]
     },
     "execution_count": 210,
     "metadata": {},
     "output_type": "execute_result"
    }
   ],
   "source": [
    "df_hyundai_dropna['Review_clock'] = df_hyundai_dropna['Review_Date'].apply(lambda x : x.split(' ')[3])\n",
    "df_hyundai_dropna.head()"
   ]
  },
  {
   "cell_type": "code",
   "execution_count": 212,
   "metadata": {
    "ExecuteTime": {
     "end_time": "2021-04-30T03:46:42.079630Z",
     "start_time": "2021-04-30T03:46:42.063560Z"
    },
    "scrolled": true
   },
   "outputs": [
    {
     "data": {
      "text/html": [
       "<div>\n",
       "<style scoped>\n",
       "    .dataframe tbody tr th:only-of-type {\n",
       "        vertical-align: middle;\n",
       "    }\n",
       "\n",
       "    .dataframe tbody tr th {\n",
       "        vertical-align: top;\n",
       "    }\n",
       "\n",
       "    .dataframe thead th {\n",
       "        text-align: right;\n",
       "    }\n",
       "</style>\n",
       "<table border=\"1\" class=\"dataframe\">\n",
       "  <thead>\n",
       "    <tr style=\"text-align: right;\">\n",
       "      <th></th>\n",
       "      <th>Review_Date</th>\n",
       "      <th>Author_Name</th>\n",
       "      <th>Vehicle_Title</th>\n",
       "      <th>Review_Title</th>\n",
       "      <th>Review</th>\n",
       "      <th>Rating</th>\n",
       "      <th>Review_Time</th>\n",
       "      <th>Review_clock</th>\n",
       "      <th>Review_hour</th>\n",
       "    </tr>\n",
       "  </thead>\n",
       "  <tbody>\n",
       "    <tr>\n",
       "      <th>0</th>\n",
       "      <td>on 03/28/18 20:22 PM (PDT)</td>\n",
       "      <td>Kiowa1@gmail.com</td>\n",
       "      <td>2006 Hyundai Azera Sedan Limited 4dr Sedan (3....</td>\n",
       "      <td>Excellent Value</td>\n",
       "      <td>I bought the 2006 Azera Limited in June of 20...</td>\n",
       "      <td>4.0</td>\n",
       "      <td>2018-03-28</td>\n",
       "      <td>20:22</td>\n",
       "      <td>20</td>\n",
       "    </tr>\n",
       "    <tr>\n",
       "      <th>1</th>\n",
       "      <td>on 05/02/17 18:03 PM (PDT)</td>\n",
       "      <td>SiGung</td>\n",
       "      <td>2006 Hyundai Azera Sedan Limited 4dr Sedan (3....</td>\n",
       "      <td>Don't even waste your time looking much less b...</td>\n",
       "      <td>Electrical nightmare.  Dealer cost for repair...</td>\n",
       "      <td>1.0</td>\n",
       "      <td>2017-05-02</td>\n",
       "      <td>18:03</td>\n",
       "      <td>18</td>\n",
       "    </tr>\n",
       "    <tr>\n",
       "      <th>2</th>\n",
       "      <td>on 05/02/17 18:03 PM (PDT)</td>\n",
       "      <td>SiGung</td>\n",
       "      <td>2006 Hyundai Azera Sedan Limited 4dr Sedan (3....</td>\n",
       "      <td>Great car</td>\n",
       "      <td>Great car, great ride, would have better mile...</td>\n",
       "      <td>5.0</td>\n",
       "      <td>2017-05-02</td>\n",
       "      <td>18:03</td>\n",
       "      <td>18</td>\n",
       "    </tr>\n",
       "    <tr>\n",
       "      <th>3</th>\n",
       "      <td>on 03/27/17 14:49 PM (PDT)</td>\n",
       "      <td>Kevin Gibson</td>\n",
       "      <td>2006 Hyundai Azera Sedan Limited 4dr Sedan (3....</td>\n",
       "      <td>Best car ever</td>\n",
       "      <td>I absolutly love my Azera. The performance is...</td>\n",
       "      <td>5.0</td>\n",
       "      <td>2017-03-27</td>\n",
       "      <td>14:49</td>\n",
       "      <td>14</td>\n",
       "    </tr>\n",
       "    <tr>\n",
       "      <th>4</th>\n",
       "      <td>on 01/10/17 10:22 AM (PST)</td>\n",
       "      <td>Nick Casper</td>\n",
       "      <td>2006 Hyundai Azera Sedan Limited 4dr Sedan (3....</td>\n",
       "      <td>Good value for luxury</td>\n",
       "      <td>We have had our 2006 Azera from nearly new (3...</td>\n",
       "      <td>4.0</td>\n",
       "      <td>2017-01-10</td>\n",
       "      <td>10:22</td>\n",
       "      <td>10</td>\n",
       "    </tr>\n",
       "  </tbody>\n",
       "</table>\n",
       "</div>"
      ],
      "text/plain": [
       "                   Review_Date        Author_Name  \\\n",
       "0   on 03/28/18 20:22 PM (PDT)  Kiowa1@gmail.com    \n",
       "1   on 05/02/17 18:03 PM (PDT)            SiGung    \n",
       "2   on 05/02/17 18:03 PM (PDT)            SiGung    \n",
       "3   on 03/27/17 14:49 PM (PDT)      Kevin Gibson    \n",
       "4   on 01/10/17 10:22 AM (PST)       Nick Casper    \n",
       "\n",
       "                                       Vehicle_Title  \\\n",
       "0  2006 Hyundai Azera Sedan Limited 4dr Sedan (3....   \n",
       "1  2006 Hyundai Azera Sedan Limited 4dr Sedan (3....   \n",
       "2  2006 Hyundai Azera Sedan Limited 4dr Sedan (3....   \n",
       "3  2006 Hyundai Azera Sedan Limited 4dr Sedan (3....   \n",
       "4  2006 Hyundai Azera Sedan Limited 4dr Sedan (3....   \n",
       "\n",
       "                                        Review_Title  \\\n",
       "0                                    Excellent Value   \n",
       "1  Don't even waste your time looking much less b...   \n",
       "2                                          Great car   \n",
       "3                                      Best car ever   \n",
       "4                              Good value for luxury   \n",
       "\n",
       "                                              Review  Rating Review_Time  \\\n",
       "0   I bought the 2006 Azera Limited in June of 20...     4.0  2018-03-28   \n",
       "1   Electrical nightmare.  Dealer cost for repair...     1.0  2017-05-02   \n",
       "2   Great car, great ride, would have better mile...     5.0  2017-05-02   \n",
       "3   I absolutly love my Azera. The performance is...     5.0  2017-03-27   \n",
       "4   We have had our 2006 Azera from nearly new (3...     4.0  2017-01-10   \n",
       "\n",
       "  Review_clock Review_hour  \n",
       "0        20:22          20  \n",
       "1        18:03          18  \n",
       "2        18:03          18  \n",
       "3        14:49          14  \n",
       "4        10:22          10  "
      ]
     },
     "execution_count": 212,
     "metadata": {},
     "output_type": "execute_result"
    }
   ],
   "source": [
    "df_hyundai_dropna['Review_hour'] = df_hyundai_dropna['Review_clock'].apply(lambda x : x.split(':')[0])\n",
    "df_hyundai_dropna.head()"
   ]
  },
  {
   "cell_type": "code",
   "execution_count": 217,
   "metadata": {
    "ExecuteTime": {
     "end_time": "2021-04-30T03:52:33.777956Z",
     "start_time": "2021-04-30T03:52:33.760161Z"
    }
   },
   "outputs": [
    {
     "data": {
      "text/html": [
       "<div>\n",
       "<style scoped>\n",
       "    .dataframe tbody tr th:only-of-type {\n",
       "        vertical-align: middle;\n",
       "    }\n",
       "\n",
       "    .dataframe tbody tr th {\n",
       "        vertical-align: top;\n",
       "    }\n",
       "\n",
       "    .dataframe thead th {\n",
       "        text-align: right;\n",
       "    }\n",
       "</style>\n",
       "<table border=\"1\" class=\"dataframe\">\n",
       "  <thead>\n",
       "    <tr style=\"text-align: right;\">\n",
       "      <th></th>\n",
       "      <th>Review_Date</th>\n",
       "      <th>Author_Name</th>\n",
       "      <th>Vehicle_Title</th>\n",
       "      <th>Review_Title</th>\n",
       "      <th>Review</th>\n",
       "      <th>Rating</th>\n",
       "      <th>Review_Time</th>\n",
       "      <th>Review_clock</th>\n",
       "      <th>Review_hour</th>\n",
       "    </tr>\n",
       "  </thead>\n",
       "  <tbody>\n",
       "    <tr>\n",
       "      <th>0</th>\n",
       "      <td>on 03/28/18 20:22 PM (PDT)</td>\n",
       "      <td>Kiowa1@gmail.com</td>\n",
       "      <td>2006 Hyundai Azera Sedan Limited 4dr Sedan (3....</td>\n",
       "      <td>Excellent Value</td>\n",
       "      <td>I bought the 2006 Azera Limited in June of 20...</td>\n",
       "      <td>4.0</td>\n",
       "      <td>2018-03-28</td>\n",
       "      <td>20:22</td>\n",
       "      <td>20</td>\n",
       "    </tr>\n",
       "    <tr>\n",
       "      <th>1</th>\n",
       "      <td>on 05/02/17 18:03 PM (PDT)</td>\n",
       "      <td>SiGung</td>\n",
       "      <td>2006 Hyundai Azera Sedan Limited 4dr Sedan (3....</td>\n",
       "      <td>Don't even waste your time looking much less b...</td>\n",
       "      <td>Electrical nightmare.  Dealer cost for repair...</td>\n",
       "      <td>1.0</td>\n",
       "      <td>2017-05-02</td>\n",
       "      <td>18:03</td>\n",
       "      <td>18</td>\n",
       "    </tr>\n",
       "    <tr>\n",
       "      <th>2</th>\n",
       "      <td>on 05/02/17 18:03 PM (PDT)</td>\n",
       "      <td>SiGung</td>\n",
       "      <td>2006 Hyundai Azera Sedan Limited 4dr Sedan (3....</td>\n",
       "      <td>Great car</td>\n",
       "      <td>Great car, great ride, would have better mile...</td>\n",
       "      <td>5.0</td>\n",
       "      <td>2017-05-02</td>\n",
       "      <td>18:03</td>\n",
       "      <td>18</td>\n",
       "    </tr>\n",
       "    <tr>\n",
       "      <th>3</th>\n",
       "      <td>on 03/27/17 14:49 PM (PDT)</td>\n",
       "      <td>Kevin Gibson</td>\n",
       "      <td>2006 Hyundai Azera Sedan Limited 4dr Sedan (3....</td>\n",
       "      <td>Best car ever</td>\n",
       "      <td>I absolutly love my Azera. The performance is...</td>\n",
       "      <td>5.0</td>\n",
       "      <td>2017-03-27</td>\n",
       "      <td>14:49</td>\n",
       "      <td>14</td>\n",
       "    </tr>\n",
       "    <tr>\n",
       "      <th>4</th>\n",
       "      <td>on 01/10/17 10:22 AM (PST)</td>\n",
       "      <td>Nick Casper</td>\n",
       "      <td>2006 Hyundai Azera Sedan Limited 4dr Sedan (3....</td>\n",
       "      <td>Good value for luxury</td>\n",
       "      <td>We have had our 2006 Azera from nearly new (3...</td>\n",
       "      <td>4.0</td>\n",
       "      <td>2017-01-10</td>\n",
       "      <td>10:22</td>\n",
       "      <td>10</td>\n",
       "    </tr>\n",
       "  </tbody>\n",
       "</table>\n",
       "</div>"
      ],
      "text/plain": [
       "                   Review_Date        Author_Name  \\\n",
       "0   on 03/28/18 20:22 PM (PDT)  Kiowa1@gmail.com    \n",
       "1   on 05/02/17 18:03 PM (PDT)            SiGung    \n",
       "2   on 05/02/17 18:03 PM (PDT)            SiGung    \n",
       "3   on 03/27/17 14:49 PM (PDT)      Kevin Gibson    \n",
       "4   on 01/10/17 10:22 AM (PST)       Nick Casper    \n",
       "\n",
       "                                       Vehicle_Title  \\\n",
       "0  2006 Hyundai Azera Sedan Limited 4dr Sedan (3....   \n",
       "1  2006 Hyundai Azera Sedan Limited 4dr Sedan (3....   \n",
       "2  2006 Hyundai Azera Sedan Limited 4dr Sedan (3....   \n",
       "3  2006 Hyundai Azera Sedan Limited 4dr Sedan (3....   \n",
       "4  2006 Hyundai Azera Sedan Limited 4dr Sedan (3....   \n",
       "\n",
       "                                        Review_Title  \\\n",
       "0                                    Excellent Value   \n",
       "1  Don't even waste your time looking much less b...   \n",
       "2                                          Great car   \n",
       "3                                      Best car ever   \n",
       "4                              Good value for luxury   \n",
       "\n",
       "                                              Review  Rating Review_Time  \\\n",
       "0   I bought the 2006 Azera Limited in June of 20...     4.0  2018-03-28   \n",
       "1   Electrical nightmare.  Dealer cost for repair...     1.0  2017-05-02   \n",
       "2   Great car, great ride, would have better mile...     5.0  2017-05-02   \n",
       "3   I absolutly love my Azera. The performance is...     5.0  2017-03-27   \n",
       "4   We have had our 2006 Azera from nearly new (3...     4.0  2017-01-10   \n",
       "\n",
       "  Review_clock  Review_hour  \n",
       "0        20:22           20  \n",
       "1        18:03           18  \n",
       "2        18:03           18  \n",
       "3        14:49           14  \n",
       "4        10:22           10  "
      ]
     },
     "execution_count": 217,
     "metadata": {},
     "output_type": "execute_result"
    }
   ],
   "source": [
    "df_hyundai_dropna['Review_hour'] = df_hyundai_dropna['Review_hour'].apply(lambda x : int(x))\n",
    "df_hyundai_dropna.head()"
   ]
  },
  {
   "cell_type": "code",
   "execution_count": 251,
   "metadata": {
    "ExecuteTime": {
     "end_time": "2021-04-30T04:45:29.290233Z",
     "start_time": "2021-04-30T04:45:29.279249Z"
    }
   },
   "outputs": [
    {
     "data": {
      "text/plain": [
       "array(['PDT)', 'PST)'], dtype=object)"
      ]
     },
     "execution_count": 251,
     "metadata": {},
     "output_type": "execute_result"
    }
   ],
   "source": [
    "df_hyundai_dropna['Review_Date'].apply(lambda x : x.split('(')[1]).unique()"
   ]
  },
  {
   "cell_type": "markdown",
   "metadata": {},
   "source": [
    "## visualization by time"
   ]
  },
  {
   "cell_type": "code",
   "execution_count": 218,
   "metadata": {
    "ExecuteTime": {
     "end_time": "2021-04-30T03:52:35.777169Z",
     "start_time": "2021-04-30T03:52:35.774030Z"
    }
   },
   "outputs": [],
   "source": [
    "import seaborn as sns"
   ]
  },
  {
   "cell_type": "code",
   "execution_count": 237,
   "metadata": {
    "ExecuteTime": {
     "end_time": "2021-04-30T04:36:24.470851Z",
     "start_time": "2021-04-30T04:36:24.463254Z"
    },
    "scrolled": true
   },
   "outputs": [],
   "source": [
    "df_hyundai_dropna['Rating_int'] = df_hyundai_dropna['Rating'].apply(lambda x: int(x))"
   ]
  },
  {
   "cell_type": "code",
   "execution_count": 238,
   "metadata": {
    "ExecuteTime": {
     "end_time": "2021-04-30T04:36:27.988104Z",
     "start_time": "2021-04-30T04:36:27.974271Z"
    }
   },
   "outputs": [
    {
     "data": {
      "text/html": [
       "<div>\n",
       "<style scoped>\n",
       "    .dataframe tbody tr th:only-of-type {\n",
       "        vertical-align: middle;\n",
       "    }\n",
       "\n",
       "    .dataframe tbody tr th {\n",
       "        vertical-align: top;\n",
       "    }\n",
       "\n",
       "    .dataframe thead th {\n",
       "        text-align: right;\n",
       "    }\n",
       "</style>\n",
       "<table border=\"1\" class=\"dataframe\">\n",
       "  <thead>\n",
       "    <tr style=\"text-align: right;\">\n",
       "      <th></th>\n",
       "      <th>Review_Date</th>\n",
       "      <th>Author_Name</th>\n",
       "      <th>Vehicle_Title</th>\n",
       "      <th>Review_Title</th>\n",
       "      <th>Review</th>\n",
       "      <th>Rating</th>\n",
       "      <th>Review_Time</th>\n",
       "      <th>Review_clock</th>\n",
       "      <th>Review_hour</th>\n",
       "      <th>Rating_int</th>\n",
       "    </tr>\n",
       "  </thead>\n",
       "  <tbody>\n",
       "    <tr>\n",
       "      <th>0</th>\n",
       "      <td>on 03/28/18 20:22 PM (PDT)</td>\n",
       "      <td>Kiowa1@gmail.com</td>\n",
       "      <td>2006 Hyundai Azera Sedan Limited 4dr Sedan (3....</td>\n",
       "      <td>Excellent Value</td>\n",
       "      <td>I bought the 2006 Azera Limited in June of 20...</td>\n",
       "      <td>4.0</td>\n",
       "      <td>2018-03-28</td>\n",
       "      <td>20:22</td>\n",
       "      <td>20</td>\n",
       "      <td>4</td>\n",
       "    </tr>\n",
       "    <tr>\n",
       "      <th>1</th>\n",
       "      <td>on 05/02/17 18:03 PM (PDT)</td>\n",
       "      <td>SiGung</td>\n",
       "      <td>2006 Hyundai Azera Sedan Limited 4dr Sedan (3....</td>\n",
       "      <td>Don't even waste your time looking much less b...</td>\n",
       "      <td>Electrical nightmare.  Dealer cost for repair...</td>\n",
       "      <td>1.0</td>\n",
       "      <td>2017-05-02</td>\n",
       "      <td>18:03</td>\n",
       "      <td>18</td>\n",
       "      <td>1</td>\n",
       "    </tr>\n",
       "    <tr>\n",
       "      <th>2</th>\n",
       "      <td>on 05/02/17 18:03 PM (PDT)</td>\n",
       "      <td>SiGung</td>\n",
       "      <td>2006 Hyundai Azera Sedan Limited 4dr Sedan (3....</td>\n",
       "      <td>Great car</td>\n",
       "      <td>Great car, great ride, would have better mile...</td>\n",
       "      <td>5.0</td>\n",
       "      <td>2017-05-02</td>\n",
       "      <td>18:03</td>\n",
       "      <td>18</td>\n",
       "      <td>5</td>\n",
       "    </tr>\n",
       "    <tr>\n",
       "      <th>3</th>\n",
       "      <td>on 03/27/17 14:49 PM (PDT)</td>\n",
       "      <td>Kevin Gibson</td>\n",
       "      <td>2006 Hyundai Azera Sedan Limited 4dr Sedan (3....</td>\n",
       "      <td>Best car ever</td>\n",
       "      <td>I absolutly love my Azera. The performance is...</td>\n",
       "      <td>5.0</td>\n",
       "      <td>2017-03-27</td>\n",
       "      <td>14:49</td>\n",
       "      <td>14</td>\n",
       "      <td>5</td>\n",
       "    </tr>\n",
       "    <tr>\n",
       "      <th>4</th>\n",
       "      <td>on 01/10/17 10:22 AM (PST)</td>\n",
       "      <td>Nick Casper</td>\n",
       "      <td>2006 Hyundai Azera Sedan Limited 4dr Sedan (3....</td>\n",
       "      <td>Good value for luxury</td>\n",
       "      <td>We have had our 2006 Azera from nearly new (3...</td>\n",
       "      <td>4.0</td>\n",
       "      <td>2017-01-10</td>\n",
       "      <td>10:22</td>\n",
       "      <td>10</td>\n",
       "      <td>4</td>\n",
       "    </tr>\n",
       "  </tbody>\n",
       "</table>\n",
       "</div>"
      ],
      "text/plain": [
       "                   Review_Date        Author_Name  \\\n",
       "0   on 03/28/18 20:22 PM (PDT)  Kiowa1@gmail.com    \n",
       "1   on 05/02/17 18:03 PM (PDT)            SiGung    \n",
       "2   on 05/02/17 18:03 PM (PDT)            SiGung    \n",
       "3   on 03/27/17 14:49 PM (PDT)      Kevin Gibson    \n",
       "4   on 01/10/17 10:22 AM (PST)       Nick Casper    \n",
       "\n",
       "                                       Vehicle_Title  \\\n",
       "0  2006 Hyundai Azera Sedan Limited 4dr Sedan (3....   \n",
       "1  2006 Hyundai Azera Sedan Limited 4dr Sedan (3....   \n",
       "2  2006 Hyundai Azera Sedan Limited 4dr Sedan (3....   \n",
       "3  2006 Hyundai Azera Sedan Limited 4dr Sedan (3....   \n",
       "4  2006 Hyundai Azera Sedan Limited 4dr Sedan (3....   \n",
       "\n",
       "                                        Review_Title  \\\n",
       "0                                    Excellent Value   \n",
       "1  Don't even waste your time looking much less b...   \n",
       "2                                          Great car   \n",
       "3                                      Best car ever   \n",
       "4                              Good value for luxury   \n",
       "\n",
       "                                              Review  Rating Review_Time  \\\n",
       "0   I bought the 2006 Azera Limited in June of 20...     4.0  2018-03-28   \n",
       "1   Electrical nightmare.  Dealer cost for repair...     1.0  2017-05-02   \n",
       "2   Great car, great ride, would have better mile...     5.0  2017-05-02   \n",
       "3   I absolutly love my Azera. The performance is...     5.0  2017-03-27   \n",
       "4   We have had our 2006 Azera from nearly new (3...     4.0  2017-01-10   \n",
       "\n",
       "  Review_clock  Review_hour  Rating_int  \n",
       "0        20:22           20           4  \n",
       "1        18:03           18           1  \n",
       "2        18:03           18           5  \n",
       "3        14:49           14           5  \n",
       "4        10:22           10           4  "
      ]
     },
     "execution_count": 238,
     "metadata": {},
     "output_type": "execute_result"
    }
   ],
   "source": [
    "df_hyundai_dropna.head()"
   ]
  },
  {
   "cell_type": "code",
   "execution_count": 252,
   "metadata": {
    "ExecuteTime": {
     "end_time": "2021-04-30T04:50:02.318258Z",
     "start_time": "2021-04-30T04:49:30.632629Z"
    }
   },
   "outputs": [
    {
     "data": {
      "text/plain": [
       "<AxesSubplot:xlabel='Rating_int', ylabel='Review_hour'>"
      ]
     },
     "execution_count": 252,
     "metadata": {},
     "output_type": "execute_result"
    },
    {
     "data": {
      "image/png": "[encoded data removed]",
      "text/plain": [
       "<Figure size 1152x576 with 1 Axes>"
      ]
     },
     "metadata": {
      "needs_background": "light"
     },
     "output_type": "display_data"
    }
   ],
   "source": [
    "fig = plt.figure(figsize=(16,8))\n",
    "# plt.xticks([0, 1, 2, 3, 4, 5], rotation=90)\n",
    "sns.swarmplot(x='Rating_int', y='Review_hour', data=df_hyundai_dropna, size=3)"
   ]
  },
  {
   "cell_type": "markdown",
   "metadata": {},
   "source": [
    "## by maker"
   ]
  },
  {
   "cell_type": "code",
   "execution_count": 201,
   "metadata": {
    "ExecuteTime": {
     "end_time": "2021-04-30T03:41:43.607586Z",
     "start_time": "2021-04-30T03:41:43.602486Z"
    }
   },
   "outputs": [],
   "source": [
    "import os"
   ]
  },
  {
   "cell_type": "code",
   "execution_count": 205,
   "metadata": {
    "ExecuteTime": {
     "end_time": "2021-04-30T03:42:12.217783Z",
     "start_time": "2021-04-30T03:42:12.211782Z"
    }
   },
   "outputs": [
    {
     "data": {
      "text/plain": [
       "'/Users/johanjun/Documents/2021/fc_mobis_4th/data'"
      ]
     },
     "execution_count": 205,
     "metadata": {},
     "output_type": "execute_result"
    }
   ],
   "source": [
    "os.getcwd()"
   ]
  },
  {
   "cell_type": "code",
   "execution_count": 206,
   "metadata": {
    "ExecuteTime": {
     "end_time": "2021-04-30T03:42:38.358842Z",
     "start_time": "2021-04-30T03:42:27.590467Z"
    },
    "collapsed": true
   },
   "outputs": [
    {
     "data": {
      "image/png": "[encoded data removed]",
      "text/plain": [
       "<Figure size 1440x11520 with 50 Axes>"
      ]
     },
     "metadata": {
      "needs_background": "light"
     },
     "output_type": "display_data"
    }
   ],
   "source": [
    "base_path = os.getcwd()+\"/data2/\"\n",
    "file_list = os.listdir(base_path)\n",
    "os.chdir(base_path)\n",
    "plt.figure(figsize=(20, 160))\n",
    "\n",
    "for index, file_name in enumerate(file_list):\n",
    "    if file_name.startswith(\".\"):\n",
    "        continue\n",
    "    brand_name = file_name[20:-4]\n",
    "    plt.subplot(len(file_list), 3, index+1)\n",
    "    df = pd.read_csv(file_name, engine='python')\n",
    "    plt.title(brand_name)\n",
    "    plt.hist(df['Rating'])\n",
    "plt.show()"
   ]
  },
  {
   "cell_type": "code",
   "execution_count": 254,
   "metadata": {
    "ExecuteTime": {
     "end_time": "2021-04-30T05:33:23.223073Z",
     "start_time": "2021-04-30T05:33:23.211199Z"
    }
   },
   "outputs": [
    {
     "data": {
      "text/html": [
       "<div>\n",
       "<style scoped>\n",
       "    .dataframe tbody tr th:only-of-type {\n",
       "        vertical-align: middle;\n",
       "    }\n",
       "\n",
       "    .dataframe tbody tr th {\n",
       "        vertical-align: top;\n",
       "    }\n",
       "\n",
       "    .dataframe thead th {\n",
       "        text-align: right;\n",
       "    }\n",
       "</style>\n",
       "<table border=\"1\" class=\"dataframe\">\n",
       "  <thead>\n",
       "    <tr style=\"text-align: right;\">\n",
       "      <th></th>\n",
       "      <th>Review_Date</th>\n",
       "      <th>Author_Name</th>\n",
       "      <th>Vehicle_Title</th>\n",
       "      <th>Review_Title</th>\n",
       "      <th>Review</th>\n",
       "      <th>Rating</th>\n",
       "    </tr>\n",
       "  </thead>\n",
       "  <tbody>\n",
       "    <tr>\n",
       "      <th>0</th>\n",
       "      <td>on 03/28/18 20:22 PM (PDT)</td>\n",
       "      <td>Kiowa1@gmail.com</td>\n",
       "      <td>2006 Hyundai Azera Sedan Limited 4dr Sedan (3....</td>\n",
       "      <td>Excellent Value</td>\n",
       "      <td>I bought the 2006 Azera Limited in June of 20...</td>\n",
       "      <td>4.0</td>\n",
       "    </tr>\n",
       "    <tr>\n",
       "      <th>1</th>\n",
       "      <td>on 05/02/17 18:03 PM (PDT)</td>\n",
       "      <td>SiGung</td>\n",
       "      <td>2006 Hyundai Azera Sedan Limited 4dr Sedan (3....</td>\n",
       "      <td>Don't even waste your time looking much less b...</td>\n",
       "      <td>Electrical nightmare.  Dealer cost for repair...</td>\n",
       "      <td>1.0</td>\n",
       "    </tr>\n",
       "    <tr>\n",
       "      <th>2</th>\n",
       "      <td>on 05/02/17 18:03 PM (PDT)</td>\n",
       "      <td>SiGung</td>\n",
       "      <td>2006 Hyundai Azera Sedan Limited 4dr Sedan (3....</td>\n",
       "      <td>Great car</td>\n",
       "      <td>Great car, great ride, would have better mile...</td>\n",
       "      <td>5.0</td>\n",
       "    </tr>\n",
       "    <tr>\n",
       "      <th>3</th>\n",
       "      <td>on 03/27/17 14:49 PM (PDT)</td>\n",
       "      <td>Kevin Gibson</td>\n",
       "      <td>2006 Hyundai Azera Sedan Limited 4dr Sedan (3....</td>\n",
       "      <td>Best car ever</td>\n",
       "      <td>I absolutly love my Azera. The performance is...</td>\n",
       "      <td>5.0</td>\n",
       "    </tr>\n",
       "    <tr>\n",
       "      <th>4</th>\n",
       "      <td>on 01/10/17 10:22 AM (PST)</td>\n",
       "      <td>Nick Casper</td>\n",
       "      <td>2006 Hyundai Azera Sedan Limited 4dr Sedan (3....</td>\n",
       "      <td>Good value for luxury</td>\n",
       "      <td>We have had our 2006 Azera from nearly new (3...</td>\n",
       "      <td>4.0</td>\n",
       "    </tr>\n",
       "  </tbody>\n",
       "</table>\n",
       "</div>"
      ],
      "text/plain": [
       "                   Review_Date        Author_Name  \\\n",
       "0   on 03/28/18 20:22 PM (PDT)  Kiowa1@gmail.com    \n",
       "1   on 05/02/17 18:03 PM (PDT)            SiGung    \n",
       "2   on 05/02/17 18:03 PM (PDT)            SiGung    \n",
       "3   on 03/27/17 14:49 PM (PDT)      Kevin Gibson    \n",
       "4   on 01/10/17 10:22 AM (PST)       Nick Casper    \n",
       "\n",
       "                                       Vehicle_Title  \\\n",
       "0  2006 Hyundai Azera Sedan Limited 4dr Sedan (3....   \n",
       "1  2006 Hyundai Azera Sedan Limited 4dr Sedan (3....   \n",
       "2  2006 Hyundai Azera Sedan Limited 4dr Sedan (3....   \n",
       "3  2006 Hyundai Azera Sedan Limited 4dr Sedan (3....   \n",
       "4  2006 Hyundai Azera Sedan Limited 4dr Sedan (3....   \n",
       "\n",
       "                                        Review_Title  \\\n",
       "0                                    Excellent Value   \n",
       "1  Don't even waste your time looking much less b...   \n",
       "2                                          Great car   \n",
       "3                                      Best car ever   \n",
       "4                              Good value for luxury   \n",
       "\n",
       "                                              Review  Rating  \n",
       "0   I bought the 2006 Azera Limited in June of 20...     4.0  \n",
       "1   Electrical nightmare.  Dealer cost for repair...     1.0  \n",
       "2   Great car, great ride, would have better mile...     5.0  \n",
       "3   I absolutly love my Azera. The performance is...     5.0  \n",
       "4   We have had our 2006 Azera from nearly new (3...     4.0  "
      ]
     },
     "execution_count": 254,
     "metadata": {},
     "output_type": "execute_result"
    }
   ],
   "source": [
    "df_hyundai.head()"
   ]
  },
  {
   "cell_type": "code",
   "execution_count": 311,
   "metadata": {
    "ExecuteTime": {
     "end_time": "2021-04-30T05:48:33.066950Z",
     "start_time": "2021-04-30T05:48:33.063713Z"
    }
   },
   "outputs": [],
   "source": [
    "li = [3.0, 4.0]"
   ]
  },
  {
   "cell_type": "code",
   "execution_count": 316,
   "metadata": {
    "ExecuteTime": {
     "end_time": "2021-04-30T05:53:16.715192Z",
     "start_time": "2021-04-30T05:53:16.694256Z"
    },
    "collapsed": true
   },
   "outputs": [
    {
     "ename": "TypeError",
     "evalue": "Cannot index by location index with a non-integer key",
     "output_type": "error",
     "traceback": [
      "\u001b[0;31m---------------------------------------------------------------------------\u001b[0m",
      "\u001b[0;31mTypeError\u001b[0m                                 Traceback (most recent call last)",
      "\u001b[0;32m<ipython-input-316-8a59219089ed>\u001b[0m in \u001b[0;36m<module>\u001b[0;34m\u001b[0m\n\u001b[0;32m----> 1\u001b[0;31m \u001b[0;34m[\u001b[0m\u001b[0mdf_hyundai\u001b[0m\u001b[0;34m.\u001b[0m\u001b[0miloc\u001b[0m\u001b[0;34m[\u001b[0m\u001b[0mi\u001b[0m\u001b[0;34m]\u001b[0m \u001b[0;32mfor\u001b[0m \u001b[0mi\u001b[0m \u001b[0;32min\u001b[0m \u001b[0mdf_hyundai\u001b[0m\u001b[0;34m[\u001b[0m\u001b[0;34m'Rating'\u001b[0m\u001b[0;34m]\u001b[0m \u001b[0;32mif\u001b[0m \u001b[0mi\u001b[0m \u001b[0;32min\u001b[0m \u001b[0mli\u001b[0m\u001b[0;34m]\u001b[0m\u001b[0;34m\u001b[0m\u001b[0;34m\u001b[0m\u001b[0m\n\u001b[0m",
      "\u001b[0;32m<ipython-input-316-8a59219089ed>\u001b[0m in \u001b[0;36m<listcomp>\u001b[0;34m(.0)\u001b[0m\n\u001b[0;32m----> 1\u001b[0;31m \u001b[0;34m[\u001b[0m\u001b[0mdf_hyundai\u001b[0m\u001b[0;34m.\u001b[0m\u001b[0miloc\u001b[0m\u001b[0;34m[\u001b[0m\u001b[0mi\u001b[0m\u001b[0;34m]\u001b[0m \u001b[0;32mfor\u001b[0m \u001b[0mi\u001b[0m \u001b[0;32min\u001b[0m \u001b[0mdf_hyundai\u001b[0m\u001b[0;34m[\u001b[0m\u001b[0;34m'Rating'\u001b[0m\u001b[0;34m]\u001b[0m \u001b[0;32mif\u001b[0m \u001b[0mi\u001b[0m \u001b[0;32min\u001b[0m \u001b[0mli\u001b[0m\u001b[0;34m]\u001b[0m\u001b[0;34m\u001b[0m\u001b[0;34m\u001b[0m\u001b[0m\n\u001b[0m",
      "\u001b[0;32m~/opt/anaconda3/lib/python3.8/site-packages/pandas/core/indexing.py\u001b[0m in \u001b[0;36m__getitem__\u001b[0;34m(self, key)\u001b[0m\n\u001b[1;32m    877\u001b[0m \u001b[0;34m\u001b[0m\u001b[0m\n\u001b[1;32m    878\u001b[0m             \u001b[0mmaybe_callable\u001b[0m \u001b[0;34m=\u001b[0m \u001b[0mcom\u001b[0m\u001b[0;34m.\u001b[0m\u001b[0mapply_if_callable\u001b[0m\u001b[0;34m(\u001b[0m\u001b[0mkey\u001b[0m\u001b[0;34m,\u001b[0m \u001b[0mself\u001b[0m\u001b[0;34m.\u001b[0m\u001b[0mobj\u001b[0m\u001b[0;34m)\u001b[0m\u001b[0;34m\u001b[0m\u001b[0;34m\u001b[0m\u001b[0m\n\u001b[0;32m--> 879\u001b[0;31m             \u001b[0;32mreturn\u001b[0m \u001b[0mself\u001b[0m\u001b[0;34m.\u001b[0m\u001b[0m_getitem_axis\u001b[0m\u001b[0;34m(\u001b[0m\u001b[0mmaybe_callable\u001b[0m\u001b[0;34m,\u001b[0m \u001b[0maxis\u001b[0m\u001b[0;34m=\u001b[0m\u001b[0maxis\u001b[0m\u001b[0;34m)\u001b[0m\u001b[0;34m\u001b[0m\u001b[0;34m\u001b[0m\u001b[0m\n\u001b[0m\u001b[1;32m    880\u001b[0m \u001b[0;34m\u001b[0m\u001b[0m\n\u001b[1;32m    881\u001b[0m     \u001b[0;32mdef\u001b[0m \u001b[0m_is_scalar_access\u001b[0m\u001b[0;34m(\u001b[0m\u001b[0mself\u001b[0m\u001b[0;34m,\u001b[0m \u001b[0mkey\u001b[0m\u001b[0;34m:\u001b[0m \u001b[0mTuple\u001b[0m\u001b[0;34m)\u001b[0m\u001b[0;34m:\u001b[0m\u001b[0;34m\u001b[0m\u001b[0;34m\u001b[0m\u001b[0m\n",
      "\u001b[0;32m~/opt/anaconda3/lib/python3.8/site-packages/pandas/core/indexing.py\u001b[0m in \u001b[0;36m_getitem_axis\u001b[0;34m(self, key, axis)\u001b[0m\n\u001b[1;32m   1491\u001b[0m             \u001b[0mkey\u001b[0m \u001b[0;34m=\u001b[0m \u001b[0mitem_from_zerodim\u001b[0m\u001b[0;34m(\u001b[0m\u001b[0mkey\u001b[0m\u001b[0;34m)\u001b[0m\u001b[0;34m\u001b[0m\u001b[0;34m\u001b[0m\u001b[0m\n\u001b[1;32m   1492\u001b[0m             \u001b[0;32mif\u001b[0m \u001b[0;32mnot\u001b[0m \u001b[0mis_integer\u001b[0m\u001b[0;34m(\u001b[0m\u001b[0mkey\u001b[0m\u001b[0;34m)\u001b[0m\u001b[0;34m:\u001b[0m\u001b[0;34m\u001b[0m\u001b[0;34m\u001b[0m\u001b[0m\n\u001b[0;32m-> 1493\u001b[0;31m                 \u001b[0;32mraise\u001b[0m \u001b[0mTypeError\u001b[0m\u001b[0;34m(\u001b[0m\u001b[0;34m\"Cannot index by location index with a non-integer key\"\u001b[0m\u001b[0;34m)\u001b[0m\u001b[0;34m\u001b[0m\u001b[0;34m\u001b[0m\u001b[0m\n\u001b[0m\u001b[1;32m   1494\u001b[0m \u001b[0;34m\u001b[0m\u001b[0m\n\u001b[1;32m   1495\u001b[0m             \u001b[0;31m# validate the location\u001b[0m\u001b[0;34m\u001b[0m\u001b[0;34m\u001b[0m\u001b[0;34m\u001b[0m\u001b[0m\n",
      "\u001b[0;31mTypeError\u001b[0m: Cannot index by location index with a non-integer key"
     ]
    }
   ],
   "source": [
    "[i for i in df_hyundai['Rating'] if i in li]"
   ]
  },
  {
   "cell_type": "code",
   "execution_count": 322,
   "metadata": {
    "ExecuteTime": {
     "end_time": "2021-04-30T05:56:04.912878Z",
     "start_time": "2021-04-30T05:56:04.902506Z"
    },
    "scrolled": false
   },
   "outputs": [],
   "source": [
    "for l in li:\n",
    "    df_hyundai = df_hyundai.drop(index=df_hyundai[df_hyundai['Rating'] == l].index)"
   ]
  },
  {
   "cell_type": "code",
   "execution_count": 323,
   "metadata": {
    "ExecuteTime": {
     "end_time": "2021-04-30T05:56:05.177651Z",
     "start_time": "2021-04-30T05:56:05.162837Z"
    }
   },
   "outputs": [
    {
     "data": {
      "text/html": [
       "<div>\n",
       "<style scoped>\n",
       "    .dataframe tbody tr th:only-of-type {\n",
       "        vertical-align: middle;\n",
       "    }\n",
       "\n",
       "    .dataframe tbody tr th {\n",
       "        vertical-align: top;\n",
       "    }\n",
       "\n",
       "    .dataframe thead th {\n",
       "        text-align: right;\n",
       "    }\n",
       "</style>\n",
       "<table border=\"1\" class=\"dataframe\">\n",
       "  <thead>\n",
       "    <tr style=\"text-align: right;\">\n",
       "      <th></th>\n",
       "      <th>Review_Date</th>\n",
       "      <th>Author_Name</th>\n",
       "      <th>Vehicle_Title</th>\n",
       "      <th>Review_Title</th>\n",
       "      <th>Review</th>\n",
       "      <th>Rating</th>\n",
       "    </tr>\n",
       "  </thead>\n",
       "  <tbody>\n",
       "    <tr>\n",
       "      <th>1</th>\n",
       "      <td>on 05/02/17 18:03 PM (PDT)</td>\n",
       "      <td>SiGung</td>\n",
       "      <td>2006 Hyundai Azera Sedan Limited 4dr Sedan (3....</td>\n",
       "      <td>Don't even waste your time looking much less b...</td>\n",
       "      <td>Electrical nightmare.  Dealer cost for repair...</td>\n",
       "      <td>1.0</td>\n",
       "    </tr>\n",
       "    <tr>\n",
       "      <th>2</th>\n",
       "      <td>on 05/02/17 18:03 PM (PDT)</td>\n",
       "      <td>SiGung</td>\n",
       "      <td>2006 Hyundai Azera Sedan Limited 4dr Sedan (3....</td>\n",
       "      <td>Great car</td>\n",
       "      <td>Great car, great ride, would have better mile...</td>\n",
       "      <td>5.0</td>\n",
       "    </tr>\n",
       "    <tr>\n",
       "      <th>3</th>\n",
       "      <td>on 03/27/17 14:49 PM (PDT)</td>\n",
       "      <td>Kevin Gibson</td>\n",
       "      <td>2006 Hyundai Azera Sedan Limited 4dr Sedan (3....</td>\n",
       "      <td>Best car ever</td>\n",
       "      <td>I absolutly love my Azera. The performance is...</td>\n",
       "      <td>5.0</td>\n",
       "    </tr>\n",
       "    <tr>\n",
       "      <th>5</th>\n",
       "      <td>on 09/19/16 21:58 PM (PDT)</td>\n",
       "      <td>Michael</td>\n",
       "      <td>2006 Hyundai Azera Sedan SE 4dr Sedan (3.8L 6c...</td>\n",
       "      <td>Exactly what a car should be</td>\n",
       "      <td>You really need to drive one the 2006-2011 Az...</td>\n",
       "      <td>5.0</td>\n",
       "    </tr>\n",
       "    <tr>\n",
       "      <th>6</th>\n",
       "      <td>on 05/17/16 12:00 PM (PDT)</td>\n",
       "      <td>Peter Evangelista</td>\n",
       "      <td>2006 Hyundai Azera Sedan Limited 4dr Sedan (3....</td>\n",
       "      <td>Honey Hyundia</td>\n",
       "      <td>This one of the best cars that I have ever ow...</td>\n",
       "      <td>5.0</td>\n",
       "    </tr>\n",
       "  </tbody>\n",
       "</table>\n",
       "</div>"
      ],
      "text/plain": [
       "                   Review_Date         Author_Name  \\\n",
       "1   on 05/02/17 18:03 PM (PDT)             SiGung    \n",
       "2   on 05/02/17 18:03 PM (PDT)             SiGung    \n",
       "3   on 03/27/17 14:49 PM (PDT)       Kevin Gibson    \n",
       "5   on 09/19/16 21:58 PM (PDT)            Michael    \n",
       "6   on 05/17/16 12:00 PM (PDT)  Peter Evangelista    \n",
       "\n",
       "                                       Vehicle_Title  \\\n",
       "1  2006 Hyundai Azera Sedan Limited 4dr Sedan (3....   \n",
       "2  2006 Hyundai Azera Sedan Limited 4dr Sedan (3....   \n",
       "3  2006 Hyundai Azera Sedan Limited 4dr Sedan (3....   \n",
       "5  2006 Hyundai Azera Sedan SE 4dr Sedan (3.8L 6c...   \n",
       "6  2006 Hyundai Azera Sedan Limited 4dr Sedan (3....   \n",
       "\n",
       "                                        Review_Title  \\\n",
       "1  Don't even waste your time looking much less b...   \n",
       "2                                          Great car   \n",
       "3                                      Best car ever   \n",
       "5                       Exactly what a car should be   \n",
       "6                                      Honey Hyundia   \n",
       "\n",
       "                                              Review  Rating  \n",
       "1   Electrical nightmare.  Dealer cost for repair...     1.0  \n",
       "2   Great car, great ride, would have better mile...     5.0  \n",
       "3   I absolutly love my Azera. The performance is...     5.0  \n",
       "5   You really need to drive one the 2006-2011 Az...     5.0  \n",
       "6   This one of the best cars that I have ever ow...     5.0  "
      ]
     },
     "execution_count": 323,
     "metadata": {},
     "output_type": "execute_result"
    }
   ],
   "source": [
    "df_hyundai.head()"
   ]
  },
  {
   "cell_type": "code",
   "execution_count": null,
   "metadata": {},
   "outputs": [],
   "source": []
  }
 ],
 "metadata": {
  "kernelspec": {
   "display_name": "Python 3",
   "language": "python",
   "name": "python3"
  },
  "language_info": {
   "codemirror_mode": {
    "name": "ipython",
    "version": 3
   },
   "file_extension": ".py",
   "mimetype": "text/x-python",
   "name": "python",
   "nbconvert_exporter": "python",
   "pygments_lexer": "ipython3",
   "version": "3.8.5"
  },
  "toc": {
   "base_numbering": 1,
   "nav_menu": {},
   "number_sections": true,
   "sideBar": true,
   "skip_h1_title": false,
   "title_cell": "Table of Contents",
   "title_sidebar": "Contents",
   "toc_cell": false,
   "toc_position": {},
   "toc_section_display": true,
   "toc_window_display": false
  },
  "varInspector": {
   "cols": {
    "lenName": 16,
    "lenType": 16,
    "lenVar": 40
   },
   "kernels_config": {
    "python": {
     "delete_cmd_postfix": "",
     "delete_cmd_prefix": "del ",
     "library": "var_list.py",
     "varRefreshCmd": "print(var_dic_list())"
    },
    "r": {
     "delete_cmd_postfix": ") ",
     "delete_cmd_prefix": "rm(",
     "library": "var_list.r",
     "varRefreshCmd": "cat(var_dic_list()) "
    }
   },
   "types_to_exclude": [
    "module",
    "function",
    "builtin_function_or_method",
    "instance",
    "_Feature"
   ],
   "window_display": false
  }
 },
 "nbformat": 4,
 "nbformat_minor": 4
}
