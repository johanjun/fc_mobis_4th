{
 "cells": [
  {
   "cell_type": "markdown",
   "metadata": {
    "id": "ppthMgtdWbqr"
   },
   "source": [
    "### Q1. 1~20까지의 정수가 모두 들어있는 리스트 변수를 만드시오.\n",
    "### 변수명 : numbers"
   ]
  },
  {
   "cell_type": "code",
   "execution_count": null,
   "metadata": {
    "id": "enmaAbfpWbq1"
   },
   "outputs": [],
   "source": [
    "# 1.\n",
    "numbers = [x for x in range(1,21)]"
   ]
  },
  {
   "cell_type": "code",
   "execution_count": null,
   "metadata": {
    "colab": {
     "base_uri": "https://localhost:8080/"
    },
    "executionInfo": {
     "elapsed": 1567,
     "status": "ok",
     "timestamp": 1619141494840,
     "user": {
      "displayName": "HANJUN JO",
      "photoUrl": "https://lh3.googleusercontent.com/a-/AOh14GjtC0XxW0BiXz0tqHJeEMnJVQFj-p1maKTS5TCMeQ=s64",
      "userId": "01957875634796637708"
     },
     "user_tz": -540
    },
    "id": "nIR23j5iWnJO",
    "outputId": "625e1b43-c796-4bae-9e24-76b8dbe35b84"
   },
   "outputs": [
    {
     "data": {
      "text/plain": [
       "[1, 2, 3, 4, 5, 6, 7, 8, 9, 10, 11, 12, 13, 14, 15, 16, 17, 18, 19, 20]"
      ]
     },
     "execution_count": 2,
     "metadata": {
      "tags": []
     },
     "output_type": "execute_result"
    }
   ],
   "source": [
    "numbers"
   ]
  },
  {
   "cell_type": "code",
   "execution_count": null,
   "metadata": {
    "id": "f5zmIf50Wbq3"
   },
   "outputs": [],
   "source": [
    "# 2.\n",
    "numbers = list(range(1,21))"
   ]
  },
  {
   "cell_type": "code",
   "execution_count": null,
   "metadata": {
    "colab": {
     "base_uri": "https://localhost:8080/"
    },
    "executionInfo": {
     "elapsed": 649,
     "status": "ok",
     "timestamp": 1619141501368,
     "user": {
      "displayName": "HANJUN JO",
      "photoUrl": "https://lh3.googleusercontent.com/a-/AOh14GjtC0XxW0BiXz0tqHJeEMnJVQFj-p1maKTS5TCMeQ=s64",
      "userId": "01957875634796637708"
     },
     "user_tz": -540
    },
    "id": "8PFLIijIWbq4",
    "outputId": "f71cf95e-37a6-4a27-badc-61a7f7e1c5b6"
   },
   "outputs": [
    {
     "data": {
      "text/plain": [
       "[1, 2, 3, 4, 5, 6, 7, 8, 9, 10, 11, 12, 13, 14, 15, 16, 17, 18, 19, 20]"
      ]
     },
     "execution_count": 4,
     "metadata": {
      "tags": []
     },
     "output_type": "execute_result"
    }
   ],
   "source": [
    "numbers"
   ]
  },
  {
   "cell_type": "markdown",
   "metadata": {
    "id": "U2psYZ_KWbq4"
   },
   "source": [
    "### Q2. 주어진 변수 test_dict의 데이터를 이용해 BMI 수치를 계산하여 화면에 출력하시오.\n",
    "### BMI 공식 : 체중(kg) / (신장(m)**2)"
   ]
  },
  {
   "cell_type": "code",
   "execution_count": null,
   "metadata": {
    "id": "py2syT9bWbq5"
   },
   "outputs": [],
   "source": [
    "test_dict = {\"Name\":\"Jake\",\"Weight\":68.5, \"Height\":183.2}"
   ]
  },
  {
   "cell_type": "code",
   "execution_count": null,
   "metadata": {
    "colab": {
     "base_uri": "https://localhost:8080/"
    },
    "executionInfo": {
     "elapsed": 740,
     "status": "ok",
     "timestamp": 1619141506686,
     "user": {
      "displayName": "HANJUN JO",
      "photoUrl": "https://lh3.googleusercontent.com/a-/AOh14GjtC0XxW0BiXz0tqHJeEMnJVQFj-p1maKTS5TCMeQ=s64",
      "userId": "01957875634796637708"
     },
     "user_tz": -540
    },
    "id": "dTS6mkVFWbq5",
    "outputId": "719ec2f6-b2a9-438b-c090-5f8f80304697"
   },
   "outputs": [
    {
     "name": "stdout",
     "output_type": "stream",
     "text": [
      "20.409841536202592\n"
     ]
    }
   ],
   "source": [
    "# 1.\n",
    "bmi = test_dict[\"Weight\"] / ((test_dict[\"Height\"]/100)**2)\n",
    "print(bmi)"
   ]
  },
  {
   "cell_type": "code",
   "execution_count": null,
   "metadata": {
    "id": "_hkRj79gWbq6"
   },
   "outputs": [],
   "source": []
  },
  {
   "cell_type": "markdown",
   "metadata": {
    "id": "fSUm2_OtWbq6"
   },
   "source": [
    "### Q3. 정수 두개를 입력받아 사칙연산과 특수연산 3가지(**,//, %)의 결과를 모두 화면에 출력하시오.\n",
    "### 출력 예시\n",
    "\n",
    "3 + 5 = 8\n",
    "\n",
    "3 - 5 = -2\n",
    "\n",
    "3 * 5 = 15\n",
    "\n",
    "3 / 5 = 0.6\n",
    "\n",
    "3 ** 5 = 243\n",
    "\n",
    "3 // 5 = 0\n",
    "\n",
    "3 % 5 = 3"
   ]
  },
  {
   "cell_type": "code",
   "execution_count": null,
   "metadata": {
    "colab": {
     "base_uri": "https://localhost:8080/"
    },
    "executionInfo": {
     "elapsed": 3640,
     "status": "ok",
     "timestamp": 1619141576731,
     "user": {
      "displayName": "HANJUN JO",
      "photoUrl": "https://lh3.googleusercontent.com/a-/AOh14GjtC0XxW0BiXz0tqHJeEMnJVQFj-p1maKTS5TCMeQ=s64",
      "userId": "01957875634796637708"
     },
     "user_tz": -540
    },
    "id": "qcO1tCnHWbq7",
    "outputId": "51b88201-c589-4e14-ba50-e1baffe1cf11"
   },
   "outputs": [
    {
     "name": "stdout",
     "output_type": "stream",
     "text": [
      "정수1 : 10\n",
      "정수2 : 2\n",
      "10 + 2 = 12\n",
      "10 - 2 = 8\n",
      "10 * 2 = 20\n",
      "10 / 2 = 5.0\n",
      "10 ** 2 = 100\n",
      "10 // 2 = 5\n",
      "10 % 2 = 0\n"
     ]
    }
   ],
   "source": [
    "# 1.\n",
    "number1 = input(\"정수1 : \")\n",
    "number2 = input(\"정수2 : \")\n",
    "number1 = int(number1)\n",
    "number2 = int(number2)\n",
    "print(number1,\"+\",number2,\"=\",number1+number2)\n",
    "print(number1,\"-\",number2,\"=\",number1-number2)\n",
    "print(number1,\"*\",number2,\"=\",number1*number2)\n",
    "print(number1,\"/\",number2,\"=\",number1/number2)\n",
    "print(number1,\"**\",number2,\"=\",number1**number2)\n",
    "print(number1,\"//\",number2,\"=\",number1//number2)\n",
    "print(number1,\"%\",number2,\"=\",number1%number2)"
   ]
  },
  {
   "cell_type": "code",
   "execution_count": null,
   "metadata": {
    "id": "D12BFFJfWbq7"
   },
   "outputs": [],
   "source": []
  },
  {
   "cell_type": "markdown",
   "metadata": {
    "id": "-_PmVRXtWbq8"
   },
   "source": [
    "### Q4. 사용자에게 이름을 입력받아 \n",
    "### 안녕하세요 [이름]님 \n",
    "### 이라고 출력하시오. 단, 이름을 아무것도 입력하지 않으면\n",
    "### 이름을 입력하지 않으셨습니다\n",
    "### 라고 출력하시오."
   ]
  },
  {
   "cell_type": "code",
   "execution_count": null,
   "metadata": {
    "colab": {
     "base_uri": "https://localhost:8080/"
    },
    "executionInfo": {
     "elapsed": 4688,
     "status": "ok",
     "timestamp": 1619141654349,
     "user": {
      "displayName": "HANJUN JO",
      "photoUrl": "https://lh3.googleusercontent.com/a-/AOh14GjtC0XxW0BiXz0tqHJeEMnJVQFj-p1maKTS5TCMeQ=s64",
      "userId": "01957875634796637708"
     },
     "user_tz": -540
    },
    "id": "CxbxuObcWbq8",
    "outputId": "60a88b79-e91a-4a5f-a3ef-894f0b22f23f"
   },
   "outputs": [
    {
     "name": "stdout",
     "output_type": "stream",
     "text": [
      "이름 : 모비스\n",
      "안녕하세요 모비스 님\n"
     ]
    }
   ],
   "source": [
    "# 1.\n",
    "name = input(\"이름 : \")\n",
    "if name:\n",
    "    print(\"안녕하세요\",name,\"님\")\n",
    "else:\n",
    "    print(\"이름을 입력하지 않으셨습니다.\")"
   ]
  },
  {
   "cell_type": "code",
   "execution_count": null,
   "metadata": {
    "id": "YD6N85ReWbq8"
   },
   "outputs": [],
   "source": []
  },
  {
   "cell_type": "markdown",
   "metadata": {
    "id": "F1uFxTouWbq9"
   },
   "source": [
    "### Q5. random 모듈을 사용하여 1~10 사이의 정수중 하나를\n",
    "### 랜덤하게 출력하는 코드를 작성하시오.\n",
    "### * import 구문 포함"
   ]
  },
  {
   "cell_type": "code",
   "execution_count": null,
   "metadata": {
    "colab": {
     "base_uri": "https://localhost:8080/"
    },
    "executionInfo": {
     "elapsed": 642,
     "status": "ok",
     "timestamp": 1619141677296,
     "user": {
      "displayName": "HANJUN JO",
      "photoUrl": "https://lh3.googleusercontent.com/a-/AOh14GjtC0XxW0BiXz0tqHJeEMnJVQFj-p1maKTS5TCMeQ=s64",
      "userId": "01957875634796637708"
     },
     "user_tz": -540
    },
    "id": "iupxmoKYWbq-",
    "outputId": "e4e5fdc5-391a-4857-8852-3a8fcc5f0d2c"
   },
   "outputs": [
    {
     "name": "stdout",
     "output_type": "stream",
     "text": [
      "6\n"
     ]
    }
   ],
   "source": [
    "# 1.\n",
    "import random\n",
    "number = random.randint(1,10)\n",
    "print(number)"
   ]
  },
  {
   "cell_type": "code",
   "execution_count": null,
   "metadata": {
    "id": "pTlImk0EWbq_"
   },
   "outputs": [],
   "source": []
  },
  {
   "cell_type": "code",
   "execution_count": null,
   "metadata": {
    "id": "G3S4AUFdWbq_"
   },
   "outputs": [],
   "source": []
  },
  {
   "cell_type": "markdown",
   "metadata": {
    "id": "Nc5ztYNBWbq_"
   },
   "source": [
    "### Q6. 다음 코드가 무한 루프가 되지 않게  탈출 구문을 추가하시오."
   ]
  },
  {
   "cell_type": "code",
   "execution_count": null,
   "metadata": {
    "id": "7X1x4EeVWbq_"
   },
   "outputs": [],
   "source": [
    "while True:\n",
    "    print(\"hi\")"
   ]
  },
  {
   "cell_type": "code",
   "execution_count": null,
   "metadata": {
    "colab": {
     "base_uri": "https://localhost:8080/"
    },
    "executionInfo": {
     "elapsed": 703,
     "status": "ok",
     "timestamp": 1619141703285,
     "user": {
      "displayName": "HANJUN JO",
      "photoUrl": "https://lh3.googleusercontent.com/a-/AOh14GjtC0XxW0BiXz0tqHJeEMnJVQFj-p1maKTS5TCMeQ=s64",
      "userId": "01957875634796637708"
     },
     "user_tz": -540
    },
    "id": "_-Ugpw5oWbq_",
    "outputId": "3529fac1-800a-46e3-fc59-5f3df1a99f5e"
   },
   "outputs": [
    {
     "name": "stdout",
     "output_type": "stream",
     "text": [
      "hi\n"
     ]
    }
   ],
   "source": [
    "# 1.\n",
    "while True:\n",
    "    print(\"hi\")\n",
    "    break"
   ]
  },
  {
   "cell_type": "code",
   "execution_count": null,
   "metadata": {
    "id": "fNq_LmQmWbrA"
   },
   "outputs": [],
   "source": []
  },
  {
   "cell_type": "markdown",
   "metadata": {
    "id": "pnaMx3VBWbrA"
   },
   "source": [
    "### Q7. 사용자에게 정수를 입력받는 다음의 코드가 있을 때\n",
    "### 사용자가 입력을 마치면 입력받은 숫자의 갯수를 출력하는\n",
    "### 코드를 작성하시오."
   ]
  },
  {
   "cell_type": "code",
   "execution_count": null,
   "metadata": {
    "colab": {
     "base_uri": "https://localhost:8080/"
    },
    "executionInfo": {
     "elapsed": 12886,
     "status": "ok",
     "timestamp": 1619141907128,
     "user": {
      "displayName": "HANJUN JO",
      "photoUrl": "https://lh3.googleusercontent.com/a-/AOh14GjtC0XxW0BiXz0tqHJeEMnJVQFj-p1maKTS5TCMeQ=s64",
      "userId": "01957875634796637708"
     },
     "user_tz": -540
    },
    "id": "_6ZyWd4-WbrA",
    "outputId": "d6d2ddc4-14d4-4a97-98d2-cffd0450f782"
   },
   "outputs": [
    {
     "name": "stdout",
     "output_type": "stream",
     "text": [
      "정수:10\n",
      "정수:5\n",
      "정수:2\n",
      "정수:9\n",
      "정수:8\n",
      "정수:\n"
     ]
    }
   ],
   "source": [
    "test_list = []\n",
    "while True:\n",
    "    number = input(\"정수:\")\n",
    "    if not number:\n",
    "        break\n",
    "    number = int(number)\n",
    "    test_list.append(number)"
   ]
  },
  {
   "cell_type": "code",
   "execution_count": null,
   "metadata": {
    "colab": {
     "base_uri": "https://localhost:8080/"
    },
    "executionInfo": {
     "elapsed": 647,
     "status": "ok",
     "timestamp": 1619141909237,
     "user": {
      "displayName": "HANJUN JO",
      "photoUrl": "https://lh3.googleusercontent.com/a-/AOh14GjtC0XxW0BiXz0tqHJeEMnJVQFj-p1maKTS5TCMeQ=s64",
      "userId": "01957875634796637708"
     },
     "user_tz": -540
    },
    "id": "4Fjjl8zIWbrA",
    "outputId": "588e0a04-f3de-4617-cdc5-039edc987668"
   },
   "outputs": [
    {
     "name": "stdout",
     "output_type": "stream",
     "text": [
      "5\n"
     ]
    }
   ],
   "source": [
    "# 1.\n",
    "print(len(test_list))"
   ]
  },
  {
   "cell_type": "code",
   "execution_count": null,
   "metadata": {
    "id": "OAfszbEtWbrB"
   },
   "outputs": [],
   "source": []
  },
  {
   "cell_type": "markdown",
   "metadata": {
    "id": "w7cP3Aw7WbrB"
   },
   "source": [
    "### Q8. 문제 7번을 활용하여\n",
    "### 사용자가 입력한 숫자들을 오름 차순으로 정렬하여 출력하는\n",
    "### 코드를 작성하시오."
   ]
  },
  {
   "cell_type": "code",
   "execution_count": null,
   "metadata": {
    "colab": {
     "base_uri": "https://localhost:8080/"
    },
    "executionInfo": {
     "elapsed": 607,
     "status": "ok",
     "timestamp": 1619141928695,
     "user": {
      "displayName": "HANJUN JO",
      "photoUrl": "https://lh3.googleusercontent.com/a-/AOh14GjtC0XxW0BiXz0tqHJeEMnJVQFj-p1maKTS5TCMeQ=s64",
      "userId": "01957875634796637708"
     },
     "user_tz": -540
    },
    "id": "H8gcHWPIWbrB",
    "outputId": "7d5e9ac6-98fc-4469-be8f-e6f115a05995"
   },
   "outputs": [
    {
     "name": "stdout",
     "output_type": "stream",
     "text": [
      "[2, 5, 8, 9, 10]\n"
     ]
    }
   ],
   "source": [
    "# 1.\n",
    "test_list.sort()\n",
    "print(test_list)"
   ]
  },
  {
   "cell_type": "code",
   "execution_count": null,
   "metadata": {
    "id": "4k3OYd25WbrB"
   },
   "outputs": [],
   "source": [
    "# 2.\n",
    "print(sorted(test_list))"
   ]
  },
  {
   "cell_type": "code",
   "execution_count": null,
   "metadata": {
    "id": "ZAM0nfidWbrB"
   },
   "outputs": [],
   "source": []
  },
  {
   "cell_type": "markdown",
   "metadata": {
    "id": "juONqNfGWbrC"
   },
   "source": [
    "### Q9. datetime 모듈을 활용하여\n",
    "### 오늘의 날짜를 출력하시오.\n",
    "### 출력 예시 : 2021-04-29"
   ]
  },
  {
   "cell_type": "code",
   "execution_count": null,
   "metadata": {
    "colab": {
     "base_uri": "https://localhost:8080/"
    },
    "executionInfo": {
     "elapsed": 644,
     "status": "ok",
     "timestamp": 1619141954165,
     "user": {
      "displayName": "HANJUN JO",
      "photoUrl": "https://lh3.googleusercontent.com/a-/AOh14GjtC0XxW0BiXz0tqHJeEMnJVQFj-p1maKTS5TCMeQ=s64",
      "userId": "01957875634796637708"
     },
     "user_tz": -540
    },
    "id": "eUS-84h7WbrC",
    "outputId": "fb8c2c1d-6984-4f4b-e690-9f61a6de1120"
   },
   "outputs": [
    {
     "name": "stdout",
     "output_type": "stream",
     "text": [
      "2021-04-23\n"
     ]
    }
   ],
   "source": [
    "# 1. \n",
    "from datetime import datetime\n",
    "print(datetime.now().strftime(\"%Y-%m-%d\"))"
   ]
  },
  {
   "cell_type": "code",
   "execution_count": null,
   "metadata": {
    "id": "ge1w4lNkWbrC"
   },
   "outputs": [],
   "source": []
  },
  {
   "cell_type": "code",
   "execution_count": null,
   "metadata": {
    "id": "gPriaJajWbrC"
   },
   "outputs": [],
   "source": []
  },
  {
   "cell_type": "markdown",
   "metadata": {
    "id": "FAeHMWuKWbrC"
   },
   "source": [
    "### Q10. 사용자에게 이름을 입력받아\n",
    "### name.txt 파일에 저장하는 코드를 작성하시오."
   ]
  },
  {
   "cell_type": "code",
   "execution_count": null,
   "metadata": {
    "colab": {
     "base_uri": "https://localhost:8080/"
    },
    "executionInfo": {
     "elapsed": 5285,
     "status": "ok",
     "timestamp": 1619141971572,
     "user": {
      "displayName": "HANJUN JO",
      "photoUrl": "https://lh3.googleusercontent.com/a-/AOh14GjtC0XxW0BiXz0tqHJeEMnJVQFj-p1maKTS5TCMeQ=s64",
      "userId": "01957875634796637708"
     },
     "user_tz": -540
    },
    "id": "mfcm_PbaWbrC",
    "outputId": "72ad9d0d-d499-4726-acd7-d273a1f24f24"
   },
   "outputs": [
    {
     "name": "stdout",
     "output_type": "stream",
     "text": [
      "이름 : 모비스\n"
     ]
    }
   ],
   "source": [
    "# 1.\n",
    "name = input(\"이름 : \")\n",
    "f = open(\"name.txt\", \"w\")\n",
    "f.write(name)\n",
    "f.close()"
   ]
  },
  {
   "cell_type": "code",
   "execution_count": null,
   "metadata": {
    "id": "KaDi9Fc9WbrD"
   },
   "outputs": [],
   "source": []
  },
  {
   "cell_type": "code",
   "execution_count": null,
   "metadata": {
    "id": "zHK3FR7sWbrD"
   },
   "outputs": [],
   "source": []
  },
  {
   "cell_type": "markdown",
   "metadata": {
    "id": "cXXg0JsRWbrD"
   },
   "source": [
    "### Q11. names.csv 파일에 한줄에 한명씩의 이름이 저장되어 있다고 가정할 때\n",
    "### 사용자의 이름을 입력받아 해당 목록이 이름이 있는지 여부를\n",
    "### 출력하는 코드를 작성하시오."
   ]
  },
  {
   "cell_type": "code",
   "execution_count": null,
   "metadata": {
    "id": "-rXPegh2WbrD"
   },
   "outputs": [],
   "source": [
    "# 1.\n",
    "import csv\n",
    "search_name = input(\"이름 : \")\n",
    "file = open(\"names.csv\", \"r\", ,encoding='utf-8')\n",
    "reader = csv.reader(file)\n",
    "names = list(reader)\n",
    "for name in names:\n",
    "    if search_name == name:\n",
    "        print(\"이름 있음\")\n",
    "        break\n",
    "else:\n",
    "    print(\"이름 없음\")"
   ]
  },
  {
   "cell_type": "code",
   "execution_count": null,
   "metadata": {
    "id": "S-fs0oK4WbrD"
   },
   "outputs": [],
   "source": [
    "# 2.\n",
    "import csv\n",
    "f = open(\"names.csv\",\"r\",encoding='utf-8')\n",
    "lines = list(csv.reader(f))\n",
    "lines = [line[0] for line in lines]\n",
    "f.close()\n",
    "name = input(\"이름:\")\n",
    "if name in lines:\n",
    "    print(\"있음\")\n",
    "else:\n",
    "    print(\"없음\")"
   ]
  },
  {
   "cell_type": "markdown",
   "metadata": {
    "id": "DdjphKERWbrE"
   },
   "source": [
    "### Q12. 현재 폴더에 있는 home_sample.csv 파일을 로드하는 코드를 작성하시오. \n",
    "### *pandas를 활용하시오."
   ]
  },
  {
   "cell_type": "code",
   "execution_count": 1,
   "metadata": {
    "ExecuteTime": {
     "end_time": "2021-05-03T01:14:57.307945Z",
     "start_time": "2021-05-03T01:14:56.077168Z"
    },
    "id": "99ZfQ8P4WbrE"
   },
   "outputs": [],
   "source": [
    "# 1.\n",
    "import pandas as pd\n",
    "df = pd.read_csv(\"home_sample.csv\")"
   ]
  },
  {
   "cell_type": "code",
   "execution_count": null,
   "metadata": {
    "id": "J1lXAiKEWbrE"
   },
   "outputs": [],
   "source": []
  },
  {
   "cell_type": "code",
   "execution_count": null,
   "metadata": {
    "id": "kHqkDZC5WbrE"
   },
   "outputs": [],
   "source": []
  },
  {
   "cell_type": "markdown",
   "metadata": {
    "id": "aPH_uruGWbrE"
   },
   "source": [
    "### Q13. 위에서 로드한 데이터의 상위 3줄, 하위 3줄 데이터를 주피터 화면에서 출력하여 확인하는 코드를 작성하시오."
   ]
  },
  {
   "cell_type": "code",
   "execution_count": null,
   "metadata": {
    "id": "rfxfiCehWbrF"
   },
   "outputs": [],
   "source": [
    "# 1.\n",
    "df.head()\n",
    "df.tail()"
   ]
  },
  {
   "cell_type": "code",
   "execution_count": null,
   "metadata": {
    "id": "ekj5eE6ZWbrF"
   },
   "outputs": [],
   "source": []
  },
  {
   "cell_type": "markdown",
   "metadata": {
    "id": "dCBtjt0dWbrF"
   },
   "source": [
    "### Q14. 위에서 로드한 데이터를 가지고 다음의 제약조건대로 데이터를 변경하시오.\n",
    "### 1) 데이터의 제일 아랫줄에 mean 행을 추가합니다.\n",
    "### mean 행에는 AMT_ 로 시작하는 열들의 경우 평균값을 구하여 입력합니다. (나머지 열의 mean 행 데이터는 비워놔도 됩니다.)\n",
    "### 2) 데이터의 제일 오른쪽 열에 rank 열을 추가합니다.\n",
    "### rank 열에는 AMT_INCOME_TOTAL 열을 기준으로 랭킹을 구하여 입력합니다."
   ]
  },
  {
   "cell_type": "code",
   "execution_count": null,
   "metadata": {
    "id": "LSk_obdoWbrF"
   },
   "outputs": [],
   "source": []
  },
  {
   "cell_type": "code",
   "execution_count": 2,
   "metadata": {
    "ExecuteTime": {
     "end_time": "2021-05-03T01:15:00.835432Z",
     "start_time": "2021-05-03T01:15:00.691529Z"
    },
    "id": "JJ9VRez2WbrF"
   },
   "outputs": [
    {
     "ename": "NameError",
     "evalue": "name 'data' is not defined",
     "output_type": "error",
     "traceback": [
      "\u001b[0;31m---------------------------------------------------------------------------\u001b[0m",
      "\u001b[0;31mNameError\u001b[0m                                 Traceback (most recent call last)",
      "\u001b[0;32m<ipython-input-2-1c9c1955b074>\u001b[0m in \u001b[0;36m<module>\u001b[0;34m\u001b[0m\n\u001b[1;32m      1\u001b[0m \u001b[0;31m# 1.\u001b[0m\u001b[0;34m\u001b[0m\u001b[0;34m\u001b[0m\u001b[0;34m\u001b[0m\u001b[0m\n\u001b[0;32m----> 2\u001b[0;31m \u001b[0mdata\u001b[0m \u001b[0;34m=\u001b[0m \u001b[0mdata\u001b[0m\u001b[0;34m.\u001b[0m\u001b[0mappend\u001b[0m\u001b[0;34m(\u001b[0m\u001b[0mpd\u001b[0m\u001b[0;34m.\u001b[0m\u001b[0mSeries\u001b[0m\u001b[0;34m(\u001b[0m\u001b[0mname\u001b[0m\u001b[0;34m=\u001b[0m\u001b[0;34m'mean'\u001b[0m\u001b[0;34m)\u001b[0m\u001b[0;34m)\u001b[0m\u001b[0;34m\u001b[0m\u001b[0;34m\u001b[0m\u001b[0m\n\u001b[0m\u001b[1;32m      3\u001b[0m \u001b[0;32mfor\u001b[0m \u001b[0mcolumn\u001b[0m \u001b[0;32min\u001b[0m \u001b[0mdata\u001b[0m\u001b[0;34m.\u001b[0m\u001b[0mcolumns\u001b[0m\u001b[0;34m:\u001b[0m\u001b[0;34m\u001b[0m\u001b[0;34m\u001b[0m\u001b[0m\n\u001b[1;32m      4\u001b[0m     \u001b[0;32mif\u001b[0m \u001b[0;34m\"AMT_\"\u001b[0m \u001b[0;32min\u001b[0m \u001b[0mcolumn\u001b[0m\u001b[0;34m:\u001b[0m\u001b[0;34m\u001b[0m\u001b[0;34m\u001b[0m\u001b[0m\n\u001b[1;32m      5\u001b[0m         \u001b[0mdata\u001b[0m\u001b[0;34m[\u001b[0m\u001b[0mcolumn\u001b[0m\u001b[0;34m]\u001b[0m\u001b[0;34m[\u001b[0m\u001b[0;34m'mean'\u001b[0m\u001b[0;34m]\u001b[0m \u001b[0;34m=\u001b[0m \u001b[0mdata\u001b[0m\u001b[0;34m[\u001b[0m\u001b[0mcolumn\u001b[0m\u001b[0;34m]\u001b[0m\u001b[0;34m.\u001b[0m\u001b[0mmean\u001b[0m\u001b[0;34m(\u001b[0m\u001b[0;34m)\u001b[0m\u001b[0;34m\u001b[0m\u001b[0;34m\u001b[0m\u001b[0m\n",
      "\u001b[0;31mNameError\u001b[0m: name 'data' is not defined"
     ]
    }
   ],
   "source": [
    "# 1.\n",
    "data = data.append(pd.Series(name='mean'))\n",
    "for column in data.columns:\n",
    "    if \"AMT_\" in column:\n",
    "        data[column]['mean'] = data[column].mean()\n",
    "data['rank'] = data['AMT_INCOME_TOTAL'].rank()"
   ]
  },
  {
   "cell_type": "code",
   "execution_count": null,
   "metadata": {
    "id": "OkRwqxGwWbrF"
   },
   "outputs": [],
   "source": []
  },
  {
   "cell_type": "markdown",
   "metadata": {
    "id": "sdUnDb9-WbrG"
   },
   "source": [
    "### Q15. 다음 코드를 보고 alco_with_nan의 결측치를 모두 채우는 코드를 작성하시오."
   ]
  },
  {
   "cell_type": "code",
   "execution_count": null,
   "metadata": {
    "id": "TJIb8qmtWbrG"
   },
   "outputs": [],
   "source": [
    "import numpy as np\n",
    "import pandas as pd\n",
    "alco_data = {'D1':[1.36,3.14],'D2':[0.42,0.29],\n",
    "             'D3':[0.7, 0.68], 'D4':[np.nan,np.nan]}\n",
    "alco_with_nan = pd.DataFrame(alco_data, index=['A','B'])"
   ]
  },
  {
   "cell_type": "code",
   "execution_count": null,
   "metadata": {
    "id": "8vMlu50QWbrK"
   },
   "outputs": [],
   "source": [
    "# 1. \n",
    "alco_with_nan.fillna(0.0)"
   ]
  },
  {
   "cell_type": "code",
   "execution_count": null,
   "metadata": {
    "id": "SvxlCUalWbrK"
   },
   "outputs": [],
   "source": [
    "# 2.\n",
    "A = alco_with_nan.loc['A']\n",
    "clean = A.notnull()\n",
    "A[-clean] = A[clean].mean()\n",
    "\n",
    "B = alco_with_nan.loc['B']\n",
    "clean = B.notnull()\n",
    "B[-clean] = B[clean].mean()"
   ]
  }
 ],
 "metadata": {
  "colab": {
   "name": "현대모비스_파이썬 기초 프로그래밍_모듈테스트 답안(송종근).ipynb",
   "provenance": []
  },
  "kernelspec": {
   "display_name": "Python 3",
   "language": "python",
   "name": "python3"
  },
  "language_info": {
   "codemirror_mode": {
    "name": "ipython",
    "version": 3
   },
   "file_extension": ".py",
   "mimetype": "text/x-python",
   "name": "python",
   "nbconvert_exporter": "python",
   "pygments_lexer": "ipython3",
   "version": "3.8.5"
  },
  "toc": {
   "base_numbering": 1,
   "nav_menu": {},
   "number_sections": true,
   "sideBar": true,
   "skip_h1_title": false,
   "title_cell": "Table of Contents",
   "title_sidebar": "Contents",
   "toc_cell": false,
   "toc_position": {},
   "toc_section_display": true,
   "toc_window_display": false
  },
  "varInspector": {
   "cols": {
    "lenName": 16,
    "lenType": 16,
    "lenVar": 40
   },
   "kernels_config": {
    "python": {
     "delete_cmd_postfix": "",
     "delete_cmd_prefix": "del ",
     "library": "var_list.py",
     "varRefreshCmd": "print(var_dic_list())"
    },
    "r": {
     "delete_cmd_postfix": ") ",
     "delete_cmd_prefix": "rm(",
     "library": "var_list.r",
     "varRefreshCmd": "cat(var_dic_list()) "
    }
   },
   "types_to_exclude": [
    "module",
    "function",
    "builtin_function_or_method",
    "instance",
    "_Feature"
   ],
   "window_display": false
  }
 },
 "nbformat": 4,
 "nbformat_minor": 1
}
