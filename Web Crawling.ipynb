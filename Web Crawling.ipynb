{
 "cells": [
  {
   "cell_type": "markdown",
   "metadata": {},
   "source": [
    "### requests"
   ]
  },
  {
   "cell_type": "code",
   "execution_count": 3,
   "metadata": {
    "ExecuteTime": {
     "end_time": "2021-04-29T04:07:41.672737Z",
     "start_time": "2021-04-29T04:07:41.411570Z"
    }
   },
   "outputs": [],
   "source": [
    "import requests\n",
    "from bs4 import BeautifulSoup"
   ]
  },
  {
   "cell_type": "code",
   "execution_count": 15,
   "metadata": {
    "ExecuteTime": {
     "end_time": "2021-04-28T07:47:17.437551Z",
     "start_time": "2021-04-28T07:47:11.161362Z"
    },
    "collapsed": true
   },
   "outputs": [
    {
     "name": "stdout",
     "output_type": "stream",
     "text": [
      "검색어 : 패스트캠퍼스\n",
      "패스트파이브, 8개 호점 추가 “3Q에 35호점 오픈”\n",
      "패스트캠퍼스, 수출바우처사업 수행기관 선정\n",
      "패스트캠퍼스, ‘서울형 청년인턴 직무캠프’ 직무교육 훈련기관 선정\n",
      "패스트파이브-위워크, 치열해진 공유오피스 업계 1위 다툼\n",
      "패스트캠퍼스, '서울형 청년인턴 직무캠프'서 디지털 마케팅 과정 운영\n",
      "'성인교육 새 강자' 패스트캠퍼스, 올해 1000억 매출 도전\n",
      "구글, 韓 청년실업 극복에 100만달러 지원…임팩트캠퍼스 출범\n",
      "패스트캠퍼스, 숙명여대 MBA 강의 콘텐츠 제작\n",
      "패스트캠퍼스, 중기부 '비대면 바우처 서비스 사업' 선정\n",
      "패스트캠퍼스, '네카라쿠배' IT취업교육 지원자 중 비전공자가 60% 넘어\n",
      "패스트캠퍼스, 지난해 매출 420억·누적 고객수 48만\n",
      "패스트캠퍼스, '광고인 박웅현과 크리에이티브' 강의 출시\n",
      "패스트파이브, 작년 매출 607억...전년 대비 43%↑\n",
      "패스트캠퍼스, 배우 남궁민과 ‘배우면 바뀐다’ 캠페인 진행\n",
      "패스트캠퍼스, 정규직 채용연계형 인턴십 ‘슈퍼루키’ 모집\n",
      "패스트캠퍼스, ‘가벼운학습지’ 모델에 배우 정려원 발탁\n",
      "패스트캠퍼스, 기업 `온라인 직무 교육` 무상 지원 나선다\n",
      "6살 된 패스트캠퍼스, 누적매출 800억원 돌파\n",
      "패스트캠퍼스, 정규직 채용연계형 인턴십 '슈퍼루키' 모집\n",
      "패스트파이브-패스트캠퍼스, 4주 만에 17개 기업 교육서비스 사용\n",
      "패스트캠퍼스, 100억 유치… “대학·대학원 대체할 것\"\n",
      "숙명여자대학교 MBA 강의 콘텐츠, 패스트캠퍼스에서도 수강한다\n",
      "패스트캠퍼스, 1분기 월평균 매출 30억\n",
      "패스트캠퍼스, WSJ와 프리미엄 월간학습지 출시\n",
      "패스트캠퍼스, 스타트업 대상 교육 콘텐츠 무료 제공\n",
      "패스트캠퍼스, 배우 남궁민과 함께 '배우면 바뀐다' 캠페인 진행\n",
      "패스트캠퍼스, 국민대학교와 교육 프로그램 공동 개발한다\n",
      "패스트캠퍼스, 서울관광재단 포스트 코로나 디지털 교육 운영사 선정\n",
      "패스트캠퍼스, 누적 고객 12만명·연매출 260억원 돌파\n",
      "패스트캠퍼스, 부천국제영화제에 'VR·AR 온라인 강의' 후원\n",
      "패스트캠퍼스, 누적 수강생 11만명 돌파…1+1 이벤트 진행\n",
      "패스트파이브, 성인교육 스타트업 패스트캠퍼스 최대 주주 등극\n",
      "패스트파이브, 상장신청 자진철회\n",
      "공유오피스 패스트파이브, 스타트업 패키지 출시\n",
      "패스트캠퍼스, ‘중소기업 경영혁신 마일리지 제도’ 교육 기관 선정\n",
      "패스트캠퍼스, 구독형 온라인 교육 서비스 출시\n",
      "[스타트업 리포트] 공유오피스 1위 패스트파이브의 비결\n",
      "패스트파이브, 공유오피스에서 오피스플래폼으로 역할 강화\n",
      "[디지털이노베이션] 패스트캠퍼스\n",
      "[만나봤더니] 패스트파이브 \"상장 철회, 신사업 추진의 기회로\"\n"
     ]
    }
   ],
   "source": [
    "keyword = input(\"검색어 : \")\n",
    "\n",
    "for page in range(1, 5):\n",
    "    start = 1 + (page-1)*10\n",
    "\n",
    "    url = f\"https://search.naver.com/search.naver?where=news&sm=tab_jum&query={keyword}&start={start}\"\n",
    "    data = requests.get(url)\n",
    "    html = BeautifulSoup(data.text, 'html.parser')\n",
    "\n",
    "    titles = html.select('.news_tit')\n",
    "\n",
    "    for title in titles:\n",
    "        print(title.text)"
   ]
  },
  {
   "cell_type": "code",
   "execution_count": 16,
   "metadata": {
    "ExecuteTime": {
     "end_time": "2021-04-29T04:55:31.840836Z",
     "start_time": "2021-04-29T04:55:31.387832Z"
    }
   },
   "outputs": [
    {
     "name": "stdout",
     "output_type": "stream",
     "text": [
      "[“3000억원어치 판 테슬라, 여전히 비트코인 3조 보유”] :   최근 3000억원 규모의 비트코인을 팔아 시세차익을 거둔 테슬라가 여전히 3조원에 가까운 비트코인을 보유한 것으로 나타났다. CNBC방송은 28일(현지시간) 회사 공시자료를 인용해 테슬라가 3월 말 기준 24억8000만... \n",
      "http://news.kmib.co.kr/article/view.asp?arcid=0015792023&code=61141411&cp=nv\n",
      "\n",
      "\n",
      "[SEC, 미국 첫 비트코인 ETF 승인여부 결정 6월로 연기] :   강건택 특파원 = 미국 증권거래위원회(SEC)가 반에크 비트코인 상장지수펀드(ETF)의 승인 여부 결정을 6월로 미뤘다고 CNBC방송이 28일(현지시간) 보도했다. 미국에서 첫 비트코인 ETF가 될 것으로 기대를 모았던 이... \n",
      "http://yna.kr/AKR20210429006500072?did=1195m\n",
      "\n",
      "\n",
      "[도지코인 14% 폭등하는데 비트코인은 1% 하락(상보)] :   도지코인이 14% 폭등한데 비해 비트코인은 1% 하락한 5만4000달러대에 거래되고 있다. 비트코인은 29일 오전 7시 현재(한국시간 기준) 글로벌 암호화폐(가상화폐) 시황 중계 사이트인 코인마켓캡에서 24시간 전보다... \n",
      "https://www.news1.kr/articles/?4290353\n",
      "\n",
      "\n",
      "[넥슨 '비트코인' 1130억원 어치 샀다…'평단' 6580만원] :   넥슨 일본법인이 1130억원 상당의 비트코인을 매수한 것으로 확인됐다. 28일 넥슨코리아에 따르면 넥슨 일본법인이 매수한 비트코인은 총 1717개, 매수 평균 단가는 58226달러(약 6580만 원)다. 이번 비트코인 매수액은 넥슨... \n",
      "http://www.newsis.com/view/?id=NISX20210428_0001422465&cID=13001&pID=13000\n",
      "\n",
      "\n"
     ]
    }
   ],
   "source": [
    "import requests\n",
    "\n",
    "url = \"https://search.naver.com/search.naver?where=nexearch&sm=top_hty&fbm=1&ie=utf8&query=비트코인\"\n",
    "\n",
    "res = requests.get(url)\n",
    "\n",
    "if res.status_code == requests.codes.ok:\n",
    "#     print('성공')\n",
    "    \n",
    "    html = BeautifulSoup(res.text, 'html.parser')\n",
    "    news_items = html.select('.news_area')\n",
    "#     print(titles)\n",
    "    for item in news_items:\n",
    "            title = item.select_one('.news_tit')\n",
    "            desc = item.select_one('.news_dsc')\n",
    "            link = title.attrs['href']\n",
    "            print(f\"[{title.text}] : {desc.text}\\n{link}\\n\\n\")\n",
    "    \n",
    "else:\n",
    "    print('접속 실패')"
   ]
  },
  {
   "cell_type": "markdown",
   "metadata": {},
   "source": [
    "### openpyxl"
   ]
  },
  {
   "cell_type": "code",
   "execution_count": 19,
   "metadata": {
    "ExecuteTime": {
     "end_time": "2021-04-29T05:17:12.835742Z",
     "start_time": "2021-04-29T05:17:12.634184Z"
    }
   },
   "outputs": [],
   "source": [
    "from openpyxl import Workbook\n",
    "\n",
    "wb = Workbook() #file\n",
    "ws = wb.active #sheet in file\n",
    "ws.append(['title', 'desc', 'link'])\n",
    "\n",
    "ws.append(['aaa', 'bbb', 'https://www.naver.com'])\n",
    "\n",
    "wb.save('file.xlsx')"
   ]
  },
  {
   "cell_type": "markdown",
   "metadata": {},
   "source": [
    "### selenium"
   ]
  },
  {
   "cell_type": "code",
   "execution_count": 34,
   "metadata": {
    "ExecuteTime": {
     "end_time": "2021-04-29T07:05:59.655095Z",
     "start_time": "2021-04-29T07:05:59.587737Z"
    }
   },
   "outputs": [],
   "source": [
    "from selenium import webdriver\n",
    "from selenium.webdriver.common.keys import Keys"
   ]
  },
  {
   "cell_type": "code",
   "execution_count": 36,
   "metadata": {
    "ExecuteTime": {
     "end_time": "2021-04-29T07:06:40.195524Z",
     "start_time": "2021-04-29T07:06:40.186388Z"
    }
   },
   "outputs": [],
   "source": [
    "import time"
   ]
  },
  {
   "cell_type": "code",
   "execution_count": 44,
   "metadata": {
    "ExecuteTime": {
     "end_time": "2021-04-29T07:11:54.210873Z",
     "start_time": "2021-04-29T07:11:48.771744Z"
    }
   },
   "outputs": [],
   "source": [
    "url = 'https://www.naver.com'\n",
    "driver = webdriver.Chrome()\n",
    "driver.get(url)\n",
    "\n",
    "driver.implicitly_wait(1)"
   ]
  },
  {
   "cell_type": "code",
   "execution_count": 46,
   "metadata": {
    "ExecuteTime": {
     "end_time": "2021-04-29T07:12:22.015192Z",
     "start_time": "2021-04-29T07:12:21.935848Z"
    }
   },
   "outputs": [],
   "source": [
    "driver.find_element_by_xpath('//*[@id=\"account\"]/a').click()\n",
    "driver.implicitly_wait(1)\n",
    "\n",
    "cmd = 'document.getElementById(\"id\").value=\"tucson482\"'\n",
    "driver.execute_script(cmd)\n",
    "driver.implicitly_wait(1)\n",
    "\n",
    "cmd = 'document.getElementById(\"pw\").value=\"\"'\n",
    "driver.execute_script(cmd)\n",
    "driver.implicitly_wait(1)\n",
    "\n",
    "driver.find_element_by_xpath('//*[@id=\"log.login\"]').click()\n",
    "driver.implicitly_wait(1)\n"
   ]
  },
  {
   "cell_type": "code",
   "execution_count": 47,
   "metadata": {
    "ExecuteTime": {
     "end_time": "2021-04-29T07:20:02.556663Z",
     "start_time": "2021-04-29T07:20:02.346706Z"
    }
   },
   "outputs": [],
   "source": [
    "driver.quit()"
   ]
  },
  {
   "cell_type": "markdown",
   "metadata": {},
   "source": [
    "### api"
   ]
  },
  {
   "cell_type": "code",
   "execution_count": 50,
   "metadata": {
    "ExecuteTime": {
     "end_time": "2021-04-29T07:35:25.089069Z",
     "start_time": "2021-04-29T07:35:25.086000Z"
    }
   },
   "outputs": [],
   "source": [
    "url = \"https://finance.daum.net/api/quote/A005930/days?symbolCode=A005930&page=1&perPage=100&pagination=true\""
   ]
  },
  {
   "cell_type": "code",
   "execution_count": 52,
   "metadata": {
    "ExecuteTime": {
     "end_time": "2021-04-29T07:37:48.762092Z",
     "start_time": "2021-04-29T07:37:48.758043Z"
    }
   },
   "outputs": [],
   "source": [
    "fake_header = {\n",
    "    'user-agent' : 'Mozilla',\n",
    "    'referer' : 'https://www.daum.net'\n",
    "}"
   ]
  },
  {
   "cell_type": "code",
   "execution_count": 55,
   "metadata": {
    "ExecuteTime": {
     "end_time": "2021-04-29T07:38:26.014589Z",
     "start_time": "2021-04-29T07:38:25.950926Z"
    }
   },
   "outputs": [],
   "source": [
    "res = requests.get(url, headers=fake_header)"
   ]
  },
  {
   "cell_type": "code",
   "execution_count": 56,
   "metadata": {
    "ExecuteTime": {
     "end_time": "2021-04-29T07:38:26.474301Z",
     "start_time": "2021-04-29T07:38:26.468660Z"
    }
   },
   "outputs": [
    {
     "data": {
      "text/plain": [
       "'{\"data\":[{\"symbolCode\":\"A005930\",\"date\":\"2021-04-29 15:30:17\",\"tradePrice\":81700.0,\"tradeTime\":\"15:30:17\",\"change\":\"FALL\",\"changePrice\":400.0,\"changeRate\":-0.0048721072,\"prevClosingPrice\":82100.0,\"exchangeCountry\":\"KOREA\",\"openingPrice\":82400.0,\"highPrice\":82500.0,\"lowPrice\":81500.0,\"accTradePrice\":1632771200500,\"accTradeVolume\":19927152,\"periodTradePrice\":1632771200500,\"periodTradeVolume\":19927152,\"listedSharesCount\":null},{\"symbolCode\":\"A005930\",\"date\":\"2021-04-28 15:30:26\",\"tradePrice\":82100.0,\"tradeTime\":\"15:30:26\",\"change\":\"FALL\",\"changePrice\":800.0,\"changeRate\":-0.0096501809,\"prevClosingPrice\":82900.0,\"exchangeCountry\":\"KOREA\",\"openingPrice\":83200.0,\"highPrice\":83200.0,\"lowPrice\":82100.0,\"accTradePrice\":1284554388615,\"accTradeVolume\":15596759,\"periodTradePrice\":1284554388615,\"periodTradeVolume\":15596759,\"listedSharesCount\":null},{\"symbolCode\":\"A005930\",\"date\":\"2021-04-27 15:30:23\",\"tradePrice\":82900.0,\"tradeTime\":\"15:30:23\",\"change\":\"FALL\",\"changePrice\":600.0,\"changeRate\":-0.0071856287,\"prevClosingPrice\":83500.0,\"exchangeCountry\":\"KOREA\",\"openingPrice\":83200.0,\"highPrice\":83300.0,\"lowPrice\":82500.0,\"accTradePrice\":1071381962500,\"accTradeVolume\":12941533,\"periodTradePrice\":1071381962500,\"periodTradeVolume\":12941533,\"listedSharesCount\":null},{\"symbolCode\":\"A005930\",\"date\":\"2021-04-26 15:30:14\",\"tradePrice\":83500.0,\"tradeTime\":\"15:30:14\",\"change\":\"RISE\",\"changePrice\":700.0,\"changeRate\":0.0084541063,\"prevClosingPrice\":82800.0,\"exchangeCountry\":\"KOREA\",\"openingPrice\":82900.0,\"highPrice\":83500.0,\"lowPrice\":82600.0,\"accTradePrice\":1286360030996,\"accTradeVolume\":15489938,\"periodTradePrice\":1286360030996,\"periodTradeVolume\":15489938,\"listedSharesCount\":null},{\"symbolCode\":\"A005930\",\"date\":\"2021-04-23 15:30:24\",\"tradePrice\":82800.0,\"tradeTime\":\"15:30:24\",\"change\":\"RISE\",\"changePrice\":400.0,\"changeRate\":0.0048543689,\"prevClosingPrice\":82400.0,\"exchangeCountry\":\"KOREA\",\"openingPrice\":81900.0,\"highPrice\":82900.0,\"lowPrice\":81600.0,\"accTradePrice\":1464208204100,\"accTradeVolume\":17805080,\"periodTradePrice\":1464208204100,\"periodTradeVolume\":17805080,\"listedSharesCount\":null},{\"symbolCode\":\"A005930\",\"date\":\"2021-04-22 15:30:21\",\"tradePrice\":82400.0,\"tradeTime\":\"15:30:21\",\"change\":\"FALL\",\"changePrice\":200.0,\"changeRate\":-0.0024213075,\"prevClosingPrice\":82600.0,\"exchangeCountry\":\"KOREA\",\"openingPrice\":82900.0,\"highPrice\":83000.0,\"lowPrice\":82400.0,\"accTradePrice\":1151303986200,\"accTradeVolume\":13934746,\"periodTradePrice\":1151303986200,\"periodTradeVolume\":13934746,\"listedSharesCount\":null},{\"symbolCode\":\"A005930\",\"date\":\"2021-04-21 15:30:23\",\"tradePrice\":82600.0,\"tradeTime\":\"15:30:23\",\"change\":\"FALL\",\"changePrice\":1300.0,\"changeRate\":-0.0154946365,\"prevClosingPrice\":83900.0,\"exchangeCountry\":\"KOREA\",\"openingPrice\":83300.0,\"highPrice\":83500.0,\"lowPrice\":82500.0,\"accTradePrice\":1792608597200,\"accTradeVolume\":21636079,\"periodTradePrice\":1792608597200,\"periodTradeVolume\":21636079,\"listedSharesCount\":null},{\"symbolCode\":\"A005930\",\"date\":\"2021-04-20 15:30:23\",\"tradePrice\":83900.0,\"tradeTime\":\"15:30:23\",\"change\":\"RISE\",\"changePrice\":600.0,\"changeRate\":0.0072028812,\"prevClosingPrice\":83300.0,\"exchangeCountry\":\"KOREA\",\"openingPrice\":83300.0,\"highPrice\":84000.0,\"lowPrice\":83100.0,\"accTradePrice\":1298185983040,\"accTradeVolume\":15521965,\"periodTradePrice\":1298185983040,\"periodTradeVolume\":15521965,\"listedSharesCount\":null},{\"symbolCode\":\"A005930\",\"date\":\"2021-04-19 15:30:18\",\"tradePrice\":83300.0,\"tradeTime\":\"15:30:18\",\"change\":\"FALL\",\"changePrice\":600.0,\"changeRate\":-0.0071513707,\"prevClosingPrice\":83900.0,\"exchangeCountry\":\"KOREA\",\"openingPrice\":83800.0,\"highPrice\":84000.0,\"lowPrice\":83300.0,\"accTradePrice\":1277281507900,\"accTradeVolume\":15287311,\"periodTradePrice\":1277281507900,\"periodTradeVolume\":15287311,\"listedSharesCount\":null},{\"symbolCode\":\"A005930\",\"date\":\"2021-04-16 15:30:04\",\"tradePrice\":83900.0,\"tradeTime\":\"15:30:04\",\"change\":\"FALL\",\"changePrice\":200.0,\"changeRate\":-0.0023781213,\"prevClosingPrice\":84100.0,\"exchangeCountry\":\"KOREA\",\"openingPrice\":84700.0,\"highPrice\":84700.0,\"lowPrice\":83600.0,\"accTradePrice\":1294516674200,\"accTradeVolume\":15429522,\"periodTradePrice\":1294516674200,\"periodTradeVolume\":15429522,\"listedSharesCount\":null}],\"totalPages\":921,\"currentPage\":1,\"pageSize\":10}'"
      ]
     },
     "execution_count": 56,
     "metadata": {},
     "output_type": "execute_result"
    }
   ],
   "source": [
    "res.text"
   ]
  },
  {
   "cell_type": "code",
   "execution_count": 57,
   "metadata": {
    "ExecuteTime": {
     "end_time": "2021-04-29T07:39:12.990488Z",
     "start_time": "2021-04-29T07:39:12.986269Z"
    }
   },
   "outputs": [],
   "source": [
    "data = res.json()"
   ]
  },
  {
   "cell_type": "code",
   "execution_count": 58,
   "metadata": {
    "ExecuteTime": {
     "end_time": "2021-04-29T07:39:15.258863Z",
     "start_time": "2021-04-29T07:39:15.247213Z"
    },
    "scrolled": false
   },
   "outputs": [
    {
     "data": {
      "text/plain": [
       "{'data': [{'symbolCode': 'A005930',\n",
       "   'date': '2021-04-29 15:30:17',\n",
       "   'tradePrice': 81700.0,\n",
       "   'tradeTime': '15:30:17',\n",
       "   'change': 'FALL',\n",
       "   'changePrice': 400.0,\n",
       "   'changeRate': -0.0048721072,\n",
       "   'prevClosingPrice': 82100.0,\n",
       "   'exchangeCountry': 'KOREA',\n",
       "   'openingPrice': 82400.0,\n",
       "   'highPrice': 82500.0,\n",
       "   'lowPrice': 81500.0,\n",
       "   'accTradePrice': 1632771200500,\n",
       "   'accTradeVolume': 19927152,\n",
       "   'periodTradePrice': 1632771200500,\n",
       "   'periodTradeVolume': 19927152,\n",
       "   'listedSharesCount': None},\n",
       "  {'symbolCode': 'A005930',\n",
       "   'date': '2021-04-28 15:30:26',\n",
       "   'tradePrice': 82100.0,\n",
       "   'tradeTime': '15:30:26',\n",
       "   'change': 'FALL',\n",
       "   'changePrice': 800.0,\n",
       "   'changeRate': -0.0096501809,\n",
       "   'prevClosingPrice': 82900.0,\n",
       "   'exchangeCountry': 'KOREA',\n",
       "   'openingPrice': 83200.0,\n",
       "   'highPrice': 83200.0,\n",
       "   'lowPrice': 82100.0,\n",
       "   'accTradePrice': 1284554388615,\n",
       "   'accTradeVolume': 15596759,\n",
       "   'periodTradePrice': 1284554388615,\n",
       "   'periodTradeVolume': 15596759,\n",
       "   'listedSharesCount': None},\n",
       "  {'symbolCode': 'A005930',\n",
       "   'date': '2021-04-27 15:30:23',\n",
       "   'tradePrice': 82900.0,\n",
       "   'tradeTime': '15:30:23',\n",
       "   'change': 'FALL',\n",
       "   'changePrice': 600.0,\n",
       "   'changeRate': -0.0071856287,\n",
       "   'prevClosingPrice': 83500.0,\n",
       "   'exchangeCountry': 'KOREA',\n",
       "   'openingPrice': 83200.0,\n",
       "   'highPrice': 83300.0,\n",
       "   'lowPrice': 82500.0,\n",
       "   'accTradePrice': 1071381962500,\n",
       "   'accTradeVolume': 12941533,\n",
       "   'periodTradePrice': 1071381962500,\n",
       "   'periodTradeVolume': 12941533,\n",
       "   'listedSharesCount': None},\n",
       "  {'symbolCode': 'A005930',\n",
       "   'date': '2021-04-26 15:30:14',\n",
       "   'tradePrice': 83500.0,\n",
       "   'tradeTime': '15:30:14',\n",
       "   'change': 'RISE',\n",
       "   'changePrice': 700.0,\n",
       "   'changeRate': 0.0084541063,\n",
       "   'prevClosingPrice': 82800.0,\n",
       "   'exchangeCountry': 'KOREA',\n",
       "   'openingPrice': 82900.0,\n",
       "   'highPrice': 83500.0,\n",
       "   'lowPrice': 82600.0,\n",
       "   'accTradePrice': 1286360030996,\n",
       "   'accTradeVolume': 15489938,\n",
       "   'periodTradePrice': 1286360030996,\n",
       "   'periodTradeVolume': 15489938,\n",
       "   'listedSharesCount': None},\n",
       "  {'symbolCode': 'A005930',\n",
       "   'date': '2021-04-23 15:30:24',\n",
       "   'tradePrice': 82800.0,\n",
       "   'tradeTime': '15:30:24',\n",
       "   'change': 'RISE',\n",
       "   'changePrice': 400.0,\n",
       "   'changeRate': 0.0048543689,\n",
       "   'prevClosingPrice': 82400.0,\n",
       "   'exchangeCountry': 'KOREA',\n",
       "   'openingPrice': 81900.0,\n",
       "   'highPrice': 82900.0,\n",
       "   'lowPrice': 81600.0,\n",
       "   'accTradePrice': 1464208204100,\n",
       "   'accTradeVolume': 17805080,\n",
       "   'periodTradePrice': 1464208204100,\n",
       "   'periodTradeVolume': 17805080,\n",
       "   'listedSharesCount': None},\n",
       "  {'symbolCode': 'A005930',\n",
       "   'date': '2021-04-22 15:30:21',\n",
       "   'tradePrice': 82400.0,\n",
       "   'tradeTime': '15:30:21',\n",
       "   'change': 'FALL',\n",
       "   'changePrice': 200.0,\n",
       "   'changeRate': -0.0024213075,\n",
       "   'prevClosingPrice': 82600.0,\n",
       "   'exchangeCountry': 'KOREA',\n",
       "   'openingPrice': 82900.0,\n",
       "   'highPrice': 83000.0,\n",
       "   'lowPrice': 82400.0,\n",
       "   'accTradePrice': 1151303986200,\n",
       "   'accTradeVolume': 13934746,\n",
       "   'periodTradePrice': 1151303986200,\n",
       "   'periodTradeVolume': 13934746,\n",
       "   'listedSharesCount': None},\n",
       "  {'symbolCode': 'A005930',\n",
       "   'date': '2021-04-21 15:30:23',\n",
       "   'tradePrice': 82600.0,\n",
       "   'tradeTime': '15:30:23',\n",
       "   'change': 'FALL',\n",
       "   'changePrice': 1300.0,\n",
       "   'changeRate': -0.0154946365,\n",
       "   'prevClosingPrice': 83900.0,\n",
       "   'exchangeCountry': 'KOREA',\n",
       "   'openingPrice': 83300.0,\n",
       "   'highPrice': 83500.0,\n",
       "   'lowPrice': 82500.0,\n",
       "   'accTradePrice': 1792608597200,\n",
       "   'accTradeVolume': 21636079,\n",
       "   'periodTradePrice': 1792608597200,\n",
       "   'periodTradeVolume': 21636079,\n",
       "   'listedSharesCount': None},\n",
       "  {'symbolCode': 'A005930',\n",
       "   'date': '2021-04-20 15:30:23',\n",
       "   'tradePrice': 83900.0,\n",
       "   'tradeTime': '15:30:23',\n",
       "   'change': 'RISE',\n",
       "   'changePrice': 600.0,\n",
       "   'changeRate': 0.0072028812,\n",
       "   'prevClosingPrice': 83300.0,\n",
       "   'exchangeCountry': 'KOREA',\n",
       "   'openingPrice': 83300.0,\n",
       "   'highPrice': 84000.0,\n",
       "   'lowPrice': 83100.0,\n",
       "   'accTradePrice': 1298185983040,\n",
       "   'accTradeVolume': 15521965,\n",
       "   'periodTradePrice': 1298185983040,\n",
       "   'periodTradeVolume': 15521965,\n",
       "   'listedSharesCount': None},\n",
       "  {'symbolCode': 'A005930',\n",
       "   'date': '2021-04-19 15:30:18',\n",
       "   'tradePrice': 83300.0,\n",
       "   'tradeTime': '15:30:18',\n",
       "   'change': 'FALL',\n",
       "   'changePrice': 600.0,\n",
       "   'changeRate': -0.0071513707,\n",
       "   'prevClosingPrice': 83900.0,\n",
       "   'exchangeCountry': 'KOREA',\n",
       "   'openingPrice': 83800.0,\n",
       "   'highPrice': 84000.0,\n",
       "   'lowPrice': 83300.0,\n",
       "   'accTradePrice': 1277281507900,\n",
       "   'accTradeVolume': 15287311,\n",
       "   'periodTradePrice': 1277281507900,\n",
       "   'periodTradeVolume': 15287311,\n",
       "   'listedSharesCount': None},\n",
       "  {'symbolCode': 'A005930',\n",
       "   'date': '2021-04-16 15:30:04',\n",
       "   'tradePrice': 83900.0,\n",
       "   'tradeTime': '15:30:04',\n",
       "   'change': 'FALL',\n",
       "   'changePrice': 200.0,\n",
       "   'changeRate': -0.0023781213,\n",
       "   'prevClosingPrice': 84100.0,\n",
       "   'exchangeCountry': 'KOREA',\n",
       "   'openingPrice': 84700.0,\n",
       "   'highPrice': 84700.0,\n",
       "   'lowPrice': 83600.0,\n",
       "   'accTradePrice': 1294516674200,\n",
       "   'accTradeVolume': 15429522,\n",
       "   'periodTradePrice': 1294516674200,\n",
       "   'periodTradeVolume': 15429522,\n",
       "   'listedSharesCount': None}],\n",
       " 'totalPages': 921,\n",
       " 'currentPage': 1,\n",
       " 'pageSize': 10}"
      ]
     },
     "execution_count": 58,
     "metadata": {},
     "output_type": "execute_result"
    }
   ],
   "source": [
    "data"
   ]
  },
  {
   "cell_type": "code",
   "execution_count": 59,
   "metadata": {
    "ExecuteTime": {
     "end_time": "2021-04-29T07:42:28.422774Z",
     "start_time": "2021-04-29T07:42:28.419394Z"
    }
   },
   "outputs": [],
   "source": [
    "daily_data = data['data']"
   ]
  },
  {
   "cell_type": "code",
   "execution_count": 61,
   "metadata": {
    "ExecuteTime": {
     "end_time": "2021-04-29T07:43:02.043703Z",
     "start_time": "2021-04-29T07:43:02.039018Z"
    }
   },
   "outputs": [
    {
     "name": "stdout",
     "output_type": "stream",
     "text": [
      "2021-04-29 15:30:17 82500.0\n",
      "2021-04-28 15:30:26 83200.0\n",
      "2021-04-27 15:30:23 83300.0\n",
      "2021-04-26 15:30:14 83500.0\n",
      "2021-04-23 15:30:24 82900.0\n",
      "2021-04-22 15:30:21 83000.0\n",
      "2021-04-21 15:30:23 83500.0\n",
      "2021-04-20 15:30:23 84000.0\n",
      "2021-04-19 15:30:18 84000.0\n",
      "2021-04-16 15:30:04 84700.0\n"
     ]
    }
   ],
   "source": [
    "for day in daily_data:\n",
    "    print(day['date'], day['highPrice'])"
   ]
  },
  {
   "cell_type": "code",
   "execution_count": 62,
   "metadata": {
    "ExecuteTime": {
     "end_time": "2021-04-29T07:43:19.103175Z",
     "start_time": "2021-04-29T07:43:19.067931Z"
    }
   },
   "outputs": [
    {
     "data": {
      "text/html": [
       "<div>\n",
       "<style scoped>\n",
       "    .dataframe tbody tr th:only-of-type {\n",
       "        vertical-align: middle;\n",
       "    }\n",
       "\n",
       "    .dataframe tbody tr th {\n",
       "        vertical-align: top;\n",
       "    }\n",
       "\n",
       "    .dataframe thead th {\n",
       "        text-align: right;\n",
       "    }\n",
       "</style>\n",
       "<table border=\"1\" class=\"dataframe\">\n",
       "  <thead>\n",
       "    <tr style=\"text-align: right;\">\n",
       "      <th></th>\n",
       "      <th>symbolCode</th>\n",
       "      <th>date</th>\n",
       "      <th>tradePrice</th>\n",
       "      <th>tradeTime</th>\n",
       "      <th>change</th>\n",
       "      <th>changePrice</th>\n",
       "      <th>changeRate</th>\n",
       "      <th>prevClosingPrice</th>\n",
       "      <th>exchangeCountry</th>\n",
       "      <th>openingPrice</th>\n",
       "      <th>highPrice</th>\n",
       "      <th>lowPrice</th>\n",
       "      <th>accTradePrice</th>\n",
       "      <th>accTradeVolume</th>\n",
       "      <th>periodTradePrice</th>\n",
       "      <th>periodTradeVolume</th>\n",
       "      <th>listedSharesCount</th>\n",
       "    </tr>\n",
       "  </thead>\n",
       "  <tbody>\n",
       "    <tr>\n",
       "      <th>0</th>\n",
       "      <td>A005930</td>\n",
       "      <td>2021-04-29 15:30:17</td>\n",
       "      <td>81700.0</td>\n",
       "      <td>15:30:17</td>\n",
       "      <td>FALL</td>\n",
       "      <td>400.0</td>\n",
       "      <td>-0.004872</td>\n",
       "      <td>82100.0</td>\n",
       "      <td>KOREA</td>\n",
       "      <td>82400.0</td>\n",
       "      <td>82500.0</td>\n",
       "      <td>81500.0</td>\n",
       "      <td>1632771200500</td>\n",
       "      <td>19927152</td>\n",
       "      <td>1632771200500</td>\n",
       "      <td>19927152</td>\n",
       "      <td>None</td>\n",
       "    </tr>\n",
       "    <tr>\n",
       "      <th>1</th>\n",
       "      <td>A005930</td>\n",
       "      <td>2021-04-28 15:30:26</td>\n",
       "      <td>82100.0</td>\n",
       "      <td>15:30:26</td>\n",
       "      <td>FALL</td>\n",
       "      <td>800.0</td>\n",
       "      <td>-0.009650</td>\n",
       "      <td>82900.0</td>\n",
       "      <td>KOREA</td>\n",
       "      <td>83200.0</td>\n",
       "      <td>83200.0</td>\n",
       "      <td>82100.0</td>\n",
       "      <td>1284554388615</td>\n",
       "      <td>15596759</td>\n",
       "      <td>1284554388615</td>\n",
       "      <td>15596759</td>\n",
       "      <td>None</td>\n",
       "    </tr>\n",
       "    <tr>\n",
       "      <th>2</th>\n",
       "      <td>A005930</td>\n",
       "      <td>2021-04-27 15:30:23</td>\n",
       "      <td>82900.0</td>\n",
       "      <td>15:30:23</td>\n",
       "      <td>FALL</td>\n",
       "      <td>600.0</td>\n",
       "      <td>-0.007186</td>\n",
       "      <td>83500.0</td>\n",
       "      <td>KOREA</td>\n",
       "      <td>83200.0</td>\n",
       "      <td>83300.0</td>\n",
       "      <td>82500.0</td>\n",
       "      <td>1071381962500</td>\n",
       "      <td>12941533</td>\n",
       "      <td>1071381962500</td>\n",
       "      <td>12941533</td>\n",
       "      <td>None</td>\n",
       "    </tr>\n",
       "    <tr>\n",
       "      <th>3</th>\n",
       "      <td>A005930</td>\n",
       "      <td>2021-04-26 15:30:14</td>\n",
       "      <td>83500.0</td>\n",
       "      <td>15:30:14</td>\n",
       "      <td>RISE</td>\n",
       "      <td>700.0</td>\n",
       "      <td>0.008454</td>\n",
       "      <td>82800.0</td>\n",
       "      <td>KOREA</td>\n",
       "      <td>82900.0</td>\n",
       "      <td>83500.0</td>\n",
       "      <td>82600.0</td>\n",
       "      <td>1286360030996</td>\n",
       "      <td>15489938</td>\n",
       "      <td>1286360030996</td>\n",
       "      <td>15489938</td>\n",
       "      <td>None</td>\n",
       "    </tr>\n",
       "    <tr>\n",
       "      <th>4</th>\n",
       "      <td>A005930</td>\n",
       "      <td>2021-04-23 15:30:24</td>\n",
       "      <td>82800.0</td>\n",
       "      <td>15:30:24</td>\n",
       "      <td>RISE</td>\n",
       "      <td>400.0</td>\n",
       "      <td>0.004854</td>\n",
       "      <td>82400.0</td>\n",
       "      <td>KOREA</td>\n",
       "      <td>81900.0</td>\n",
       "      <td>82900.0</td>\n",
       "      <td>81600.0</td>\n",
       "      <td>1464208204100</td>\n",
       "      <td>17805080</td>\n",
       "      <td>1464208204100</td>\n",
       "      <td>17805080</td>\n",
       "      <td>None</td>\n",
       "    </tr>\n",
       "  </tbody>\n",
       "</table>\n",
       "</div>"
      ],
      "text/plain": [
       "  symbolCode                 date  tradePrice tradeTime change  changePrice  \\\n",
       "0    A005930  2021-04-29 15:30:17     81700.0  15:30:17   FALL        400.0   \n",
       "1    A005930  2021-04-28 15:30:26     82100.0  15:30:26   FALL        800.0   \n",
       "2    A005930  2021-04-27 15:30:23     82900.0  15:30:23   FALL        600.0   \n",
       "3    A005930  2021-04-26 15:30:14     83500.0  15:30:14   RISE        700.0   \n",
       "4    A005930  2021-04-23 15:30:24     82800.0  15:30:24   RISE        400.0   \n",
       "\n",
       "   changeRate  prevClosingPrice exchangeCountry  openingPrice  highPrice  \\\n",
       "0   -0.004872           82100.0           KOREA       82400.0    82500.0   \n",
       "1   -0.009650           82900.0           KOREA       83200.0    83200.0   \n",
       "2   -0.007186           83500.0           KOREA       83200.0    83300.0   \n",
       "3    0.008454           82800.0           KOREA       82900.0    83500.0   \n",
       "4    0.004854           82400.0           KOREA       81900.0    82900.0   \n",
       "\n",
       "   lowPrice  accTradePrice  accTradeVolume  periodTradePrice  \\\n",
       "0   81500.0  1632771200500        19927152     1632771200500   \n",
       "1   82100.0  1284554388615        15596759     1284554388615   \n",
       "2   82500.0  1071381962500        12941533     1071381962500   \n",
       "3   82600.0  1286360030996        15489938     1286360030996   \n",
       "4   81600.0  1464208204100        17805080     1464208204100   \n",
       "\n",
       "   periodTradeVolume listedSharesCount  \n",
       "0           19927152              None  \n",
       "1           15596759              None  \n",
       "2           12941533              None  \n",
       "3           15489938              None  \n",
       "4           17805080              None  "
      ]
     },
     "execution_count": 62,
     "metadata": {},
     "output_type": "execute_result"
    }
   ],
   "source": [
    "df = pd.DataFrame(daily_data)\n",
    "df.head()"
   ]
  },
  {
   "cell_type": "code",
   "execution_count": 63,
   "metadata": {
    "ExecuteTime": {
     "end_time": "2021-04-29T07:43:30.727213Z",
     "start_time": "2021-04-29T07:43:30.721189Z"
    }
   },
   "outputs": [
    {
     "data": {
      "text/plain": [
       "(10, 17)"
      ]
     },
     "execution_count": 63,
     "metadata": {},
     "output_type": "execute_result"
    }
   ],
   "source": [
    "df.shape"
   ]
  },
  {
   "cell_type": "code",
   "execution_count": null,
   "metadata": {},
   "outputs": [],
   "source": []
  }
 ],
 "metadata": {
  "kernelspec": {
   "display_name": "Python 3",
   "language": "python",
   "name": "python3"
  },
  "language_info": {
   "codemirror_mode": {
    "name": "ipython",
    "version": 3
   },
   "file_extension": ".py",
   "mimetype": "text/x-python",
   "name": "python",
   "nbconvert_exporter": "python",
   "pygments_lexer": "ipython3",
   "version": "3.8.5"
  },
  "toc": {
   "base_numbering": 1,
   "nav_menu": {},
   "number_sections": true,
   "sideBar": true,
   "skip_h1_title": false,
   "title_cell": "Table of Contents",
   "title_sidebar": "Contents",
   "toc_cell": false,
   "toc_position": {},
   "toc_section_display": true,
   "toc_window_display": false
  },
  "varInspector": {
   "cols": {
    "lenName": 16,
    "lenType": 16,
    "lenVar": 40
   },
   "kernels_config": {
    "python": {
     "delete_cmd_postfix": "",
     "delete_cmd_prefix": "del ",
     "library": "var_list.py",
     "varRefreshCmd": "print(var_dic_list())"
    },
    "r": {
     "delete_cmd_postfix": ") ",
     "delete_cmd_prefix": "rm(",
     "library": "var_list.r",
     "varRefreshCmd": "cat(var_dic_list()) "
    }
   },
   "types_to_exclude": [
    "module",
    "function",
    "builtin_function_or_method",
    "instance",
    "_Feature"
   ],
   "window_display": false
  }
 },
 "nbformat": 4,
 "nbformat_minor": 4
}
