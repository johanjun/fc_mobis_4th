{
 "cells": [
  {
   "cell_type": "code",
   "execution_count": 101,
   "metadata": {
    "ExecuteTime": {
     "end_time": "2021-06-04T03:35:08.335378Z",
     "start_time": "2021-06-04T03:35:08.102910Z"
    }
   },
   "outputs": [],
   "source": [
    "from nptdms import TdmsFile, TdmsWriter, ChannelObject, tdms\n",
    "import numpy\n",
    "\n",
    "tdms_file = TdmsFile.read(\"v09350.tdms\")"
   ]
  },
  {
   "cell_type": "code",
   "execution_count": 112,
   "metadata": {
    "ExecuteTime": {
     "end_time": "2021-06-04T03:37:04.845124Z",
     "start_time": "2021-06-04T03:37:04.841993Z"
    }
   },
   "outputs": [],
   "source": [
    "group_list = tdms_file.groups()"
   ]
  },
  {
   "cell_type": "code",
   "execution_count": 121,
   "metadata": {
    "ExecuteTime": {
     "end_time": "2021-06-04T03:38:08.233637Z",
     "start_time": "2021-06-04T03:38:08.223567Z"
    },
    "scrolled": true
   },
   "outputs": [
    {
     "data": {
      "text/plain": [
       "'v9350_Veh1'"
      ]
     },
     "execution_count": 121,
     "metadata": {},
     "output_type": "execute_result"
    }
   ],
   "source": [
    "group_list[0].name"
   ]
  },
  {
   "cell_type": "code",
   "execution_count": 114,
   "metadata": {
    "ExecuteTime": {
     "end_time": "2021-06-04T03:37:05.980187Z",
     "start_time": "2021-06-04T03:37:05.976658Z"
    }
   },
   "outputs": [],
   "source": [
    "group = tdms_file[\"v9350_Veh1\"]"
   ]
  },
  {
   "cell_type": "code",
   "execution_count": 115,
   "metadata": {
    "ExecuteTime": {
     "end_time": "2021-06-04T03:37:16.591138Z",
     "start_time": "2021-06-04T03:37:16.587687Z"
    }
   },
   "outputs": [],
   "source": [
    "all_group_channels = group.channels()"
   ]
  },
  {
   "cell_type": "code",
   "execution_count": 120,
   "metadata": {
    "ExecuteTime": {
     "end_time": "2021-06-04T03:38:01.995638Z",
     "start_time": "2021-06-04T03:38:01.990496Z"
    }
   },
   "outputs": [
    {
     "data": {
      "text/plain": [
       "'10FORALERE00AC1P'"
      ]
     },
     "execution_count": 120,
     "metadata": {},
     "output_type": "execute_result"
    }
   ],
   "source": [
    "all_group_channels[0].name"
   ]
  },
  {
   "cell_type": "code",
   "execution_count": 122,
   "metadata": {
    "ExecuteTime": {
     "end_time": "2021-06-04T03:38:27.700903Z",
     "start_time": "2021-06-04T03:38:27.697725Z"
    }
   },
   "outputs": [],
   "source": [
    "channel = group[all_group_channels[0].name]"
   ]
  },
  {
   "cell_type": "code",
   "execution_count": 123,
   "metadata": {
    "ExecuteTime": {
     "end_time": "2021-06-04T03:38:28.197011Z",
     "start_time": "2021-06-04T03:38:28.192878Z"
    }
   },
   "outputs": [],
   "source": [
    "all_channel_data = channel[:]\n",
    "data_subset = channel[100:200]\n",
    "first_channel_value = channel[0]"
   ]
  },
  {
   "cell_type": "code",
   "execution_count": 130,
   "metadata": {
    "ExecuteTime": {
     "end_time": "2021-06-04T03:41:08.681507Z",
     "start_time": "2021-06-04T03:41:08.672252Z"
    }
   },
   "outputs": [
    {
     "data": {
      "text/plain": [
       "array([-0.0834187 , -0.0219307 ,  0.101045  ,  0.131789  ,  0.0395573 ,\n",
       "        0.193277  ,  0.0703013 ,  0.162533  , -0.114163  ,  0.00881328,\n",
       "        0.0395573 ,  0.0703013 ,  0.0395573 ,  0.0395573 ,  0.224021  ,\n",
       "        0.0703013 , -0.114163  ,  0.254765  ,  0.00881328,  0.0703013 ,\n",
       "        0.193277  ,  0.131789  , -0.0219307 , -0.0219307 , -0.0526747 ,\n",
       "        0.131789  ,  0.00881328,  0.00881328,  0.0395573 , -0.0219307 ,\n",
       "        0.0703013 , -0.0219307 ,  0.101045  ,  0.162533  ,  0.101045  ,\n",
       "        0.131789  ,  0.0395573 , -0.0526747 , -0.0526747 ,  0.0703013 ,\n",
       "        0.254765  ,  0.0703013 ,  0.0395573 ,  0.0703013 ,  0.0395573 ,\n",
       "        0.193277  ,  0.193277  ,  0.0395573 ,  0.131789  ,  0.193277  ,\n",
       "        0.131789  ,  0.101045  ,  0.162533  , -0.0526747 ,  0.0395573 ,\n",
       "        0.0703013 ,  0.0395573 , -0.0526747 ,  0.00881328,  0.224021  ,\n",
       "        0.193277  , -0.0219307 ,  0.0703013 ,  0.0395573 ,  0.00881328,\n",
       "        0.0395573 ,  0.0395573 ,  0.224021  , -0.0219307 ,  0.101045  ,\n",
       "        0.101045  , -0.0219307 ,  0.00881328,  0.0395573 ,  0.131789  ,\n",
       "        0.224021  ,  0.101045  , -0.0219307 , -0.114163  , -0.144907  ,\n",
       "       -0.0834187 ,  0.131789  ,  0.0395573 ,  0.131789  ,  0.131789  ,\n",
       "        0.162533  ,  0.0395573 , -0.144907  , -0.0219307 ,  0.101045  ,\n",
       "        0.193277  ,  0.101045  ,  0.101045  , -0.0219307 , -0.0834187 ,\n",
       "       -0.0219307 ,  0.00881328,  0.0703013 ,  0.43922901,  0.408485  ])"
      ]
     },
     "execution_count": 130,
     "metadata": {},
     "output_type": "execute_result"
    }
   ],
   "source": [
    "data_subset"
   ]
  },
  {
   "cell_type": "code",
   "execution_count": 124,
   "metadata": {
    "ExecuteTime": {
     "end_time": "2021-06-04T03:38:34.283837Z",
     "start_time": "2021-06-04T03:38:34.276229Z"
    }
   },
   "outputs": [],
   "source": [
    "time = channel.time_track()"
   ]
  },
  {
   "cell_type": "code",
   "execution_count": 125,
   "metadata": {
    "ExecuteTime": {
     "end_time": "2021-06-04T03:39:23.563206Z",
     "start_time": "2021-06-04T03:39:23.556478Z"
    }
   },
   "outputs": [
    {
     "name": "stdout",
     "output_type": "stream",
     "text": [
      "name: v09350\n",
      "description: Vehcle HYUNDAI impacts LOAD CELL BARRIER; this test includes 1 vehicle , 2 occupants, , 1 barrier  and 634 channels. Reference: 'NHTSA Test Reference Guides' in http://www.nhtsa.gov/Research/Databases+and+Software/Entree+for+Windows\n",
      "title: Vehicle Safety Research\n",
      "author: NHTSA, US Dept. of Transportation\n",
      "datetime: 2016-03-03T14:11:39.099000\n",
      "TEST_CLSSPD: 56.23\n",
      "TEST_IMPANG: 0\n",
      "TEST_OFFSET: 0\n",
      "TEST_TITLE: NCAP - 2016 HYUNDAI TUCSON SE AWD 5-DR SUV\n",
      "TEST_TOTCRV: 634\n",
      "TEST_TSTCFN: VTB\n",
      "TEST_TSTCOM: DTS TDAS PRO ON BOARD DAS\n",
      "TEST_TSTDAT: 10/5/5\n",
      "TEST_TSTNO: 9350\n",
      "TEST_TSTOBJ: VEHICLE CRASHWORTHINESS AND OCCUPANT RESTRAINT PERFORMANCE DATA\n",
      "TEST_TSTPRF: MGA\n",
      "TEST_TSTREF: BT15100511\n",
      "TEST_TSTTYP: NCA\n"
     ]
    }
   ],
   "source": [
    "# Iterate over all items in the file properties and print them\n",
    "for name, value in tdms_file.properties.items():\n",
    "    print(\"{0}: {1}\".format(name, value))"
   ]
  },
  {
   "cell_type": "code",
   "execution_count": 128,
   "metadata": {
    "ExecuteTime": {
     "end_time": "2021-06-04T03:40:37.874987Z",
     "start_time": "2021-06-04T03:40:37.871566Z"
    }
   },
   "outputs": [],
   "source": [
    "# # Get a single property value from the file\n",
    "# property_value = tdms_file.properties[\"my_property_name\"]\n",
    "\n",
    "# # Get a group property\n",
    "property_value = tdms_file[group_list[0].name].properties[\"TEST_TSTDAT\"]\n",
    "\n",
    "# # Get a channel property\n",
    "# property_value = tdms_file[group_list[0].name][\"channel name\"].properties[\"channel_property_name\"]"
   ]
  },
  {
   "cell_type": "code",
   "execution_count": 129,
   "metadata": {
    "ExecuteTime": {
     "end_time": "2021-06-04T03:40:39.240788Z",
     "start_time": "2021-06-04T03:40:39.227118Z"
    }
   },
   "outputs": [
    {
     "data": {
      "text/plain": [
       "'10/5/5'"
      ]
     },
     "execution_count": 129,
     "metadata": {},
     "output_type": "execute_result"
    }
   ],
   "source": [
    "property_value"
   ]
  },
  {
   "cell_type": "code",
   "execution_count": null,
   "metadata": {},
   "outputs": [],
   "source": []
  }
 ],
 "metadata": {
  "kernelspec": {
   "display_name": "Python 3",
   "language": "python",
   "name": "python3"
  },
  "language_info": {
   "codemirror_mode": {
    "name": "ipython",
    "version": 3
   },
   "file_extension": ".py",
   "mimetype": "text/x-python",
   "name": "python",
   "nbconvert_exporter": "python",
   "pygments_lexer": "ipython3",
   "version": "3.8.5"
  },
  "toc": {
   "base_numbering": 1,
   "nav_menu": {},
   "number_sections": true,
   "sideBar": true,
   "skip_h1_title": false,
   "title_cell": "Table of Contents",
   "title_sidebar": "Contents",
   "toc_cell": false,
   "toc_position": {},
   "toc_section_display": true,
   "toc_window_display": false
  },
  "varInspector": {
   "cols": {
    "lenName": 16,
    "lenType": 16,
    "lenVar": 40
   },
   "kernels_config": {
    "python": {
     "delete_cmd_postfix": "",
     "delete_cmd_prefix": "del ",
     "library": "var_list.py",
     "varRefreshCmd": "print(var_dic_list())"
    },
    "r": {
     "delete_cmd_postfix": ") ",
     "delete_cmd_prefix": "rm(",
     "library": "var_list.r",
     "varRefreshCmd": "cat(var_dic_list()) "
    }
   },
   "types_to_exclude": [
    "module",
    "function",
    "builtin_function_or_method",
    "instance",
    "_Feature"
   ],
   "window_display": false
  }
 },
 "nbformat": 4,
 "nbformat_minor": 4
}
